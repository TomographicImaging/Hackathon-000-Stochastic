{
 "cells": [
  {
   "cell_type": "code",
   "execution_count": null,
   "id": "b734803e-4a49-4f77-b800-1efea6e9218a",
   "metadata": {},
   "outputs": [],
   "source": [
    "# Import libraries\n",
    "\n",
    "from cil.framework import  AcquisitionGeometry\n",
    "from cil.optimisation.algorithms import Algorithm, SPDHG\n",
    "from cil.optimisation.functions import Function, L2NormSquared, BlockFunction, MixedL21Norm, IndicatorBox, LeastSquares, TotalVariation\n",
    "from cil.optimisation.operators import GradientOperator, BlockOperator\n",
    "from cil.optimisation.algorithms import PDHG\n",
    "from cil.plugins.astra.operators import ProjectionOperator\n",
    "# from cil.plugins.tigre import ProjectionOperator\n",
    "from cil.plugins.astra.processors import FBP\n",
    "from cil.plugins import TomoPhantom\n",
    "from cil.utilities.display import show2D, show_geometry\n",
    "from cil.utilities import noise\n",
    "from cil.processors import Slicer\n",
    "\n",
    "import matplotlib.pyplot as plt\n",
    "\n",
    "import numpy as np\n",
    "\n",
    "import importlib"
   ]
  },
  {
   "cell_type": "code",
   "execution_count": null,
   "id": "49b2140e",
   "metadata": {},
   "outputs": [],
   "source": [
    "# Define functions\n",
    "import sys\n",
    "cil_path = '/u/s/cd902/GitHub/Hackathon-000-Stochastic/cil'\n",
    "sys.path.append(cil_path)\n",
    "import NewSubsetSumFunction\n",
    "from NewSubsetSumFunction import SAGAFunction, SGDFunction, SAGFunction, SVRGFunction, LSVRGFunction\n",
    "import NewFISTA\n",
    "from NewFISTA import ISTA, FISTA, AdaptiveMomentumISTA"
   ]
  },
  {
   "cell_type": "code",
   "execution_count": null,
   "id": "9681713c-cdc9-4220-a73f-b7348b0ea35f",
   "metadata": {},
   "outputs": [],
   "source": [
    "# Detectors\n",
    "N = 256\n",
    "detectors =  N\n",
    "\n",
    "# Angles\n",
    "angles = np.linspace(0,180,180, dtype='float32')\n",
    "\n",
    "# Setup acquisition geometry\n",
    "ag = AcquisitionGeometry.create_Parallel2D()\\\n",
    "                        .set_angles(angles)\\\n",
    "                        .set_panel(detectors, pixel_size=0.1)\n",
    "# Get image geometry\n",
    "ig = ag.get_ImageGeometry()\n",
    "\n",
    "# Get phantom\n",
    "phantom = TomoPhantom.get_ImageData(12, ig)"
   ]
  },
  {
   "cell_type": "code",
   "execution_count": null,
   "id": "159d9862-9529-4393-a413-6cf5991c69d4",
   "metadata": {},
   "outputs": [],
   "source": [
    "# Create projection operator using Astra-Toolbox. Available CPU/CPU\n",
    "A = ProjectionOperator(ig, ag, device = 'gpu')\n",
    "\n",
    "# Create an acqusition data (numerically)\n",
    "sino = A.direct(phantom)\n",
    "\n",
    "# Simulate Gaussian noise for the sinogram\n",
    "gaussian_var = 0.5\n",
    "gaussian_mean = 0\n",
    "\n",
    "n1 = np.random.normal(gaussian_mean, gaussian_var, size = ag.shape)\n",
    "                      \n",
    "noisy_sino = ag.allocate()\n",
    "noisy_sino.fill(n1 + sino.array)\n",
    "noisy_sino.array[noisy_sino.array<0]=0\n",
    "# noisy_sino.fill(sino.array)\n",
    "\n",
    "# Show numerical and noisy sinograms\n",
    "show2D([phantom, sino, noisy_sino], title = ['Ground Truth','Sinogram','Noisy Sinogram'], num_cols=3, cmap = 'inferno')\n"
   ]
  },
  {
   "cell_type": "code",
   "execution_count": null,
   "id": "f24e4c92-9e36-407c-a807-3c0a3397a6e4",
   "metadata": {},
   "outputs": [],
   "source": [
    "# Setup and run the FBP algorithm\n",
    "fbp_recon = FBP(ig, ag,  device = 'gpu')(noisy_sino)\n",
    "\n",
    "# Show reconstructions\n",
    "show2D([phantom, fbp_recon], \n",
    "       title = ['Ground Truth','FBP reconstruction'], \n",
    "       cmap = 'inferno', fix_range=(0,1.), size=(10,10))"
   ]
  },
  {
   "cell_type": "markdown",
   "id": "2b35907d-50e4-4fe6-8217-4621f8f975b1",
   "metadata": {},
   "source": [
    "# Setup subset framework for gradient-based algorithms"
   ]
  },
  {
   "cell_type": "code",
   "execution_count": null,
   "id": "eadd8d5c-e185-464b-a186-43c6b00d8182",
   "metadata": {},
   "outputs": [],
   "source": [
    "# Define number of subsets\n",
    "n_subsets = 10\n",
    "\n",
    "# Initialize the lists containing the F_i's and A_i's\n",
    "f_subsets = []\n",
    "A_subsets = []\n",
    "\n",
    "# Define F_i's and A_i's\n",
    "for i in range(n_subsets):\n",
    "    # Total number of angles\n",
    "    n_angles = len(ag.angles)\n",
    "    # Divide the data into subsets\n",
    "    data_subset = Slicer(roi = {'angle' : (i,n_angles,n_subsets)})(noisy_sino)\n",
    "\n",
    "    # Define A_i and put into list \n",
    "    ageom_subset = data_subset.geometry\n",
    "    Ai = ProjectionOperator(ig, ageom_subset)\n",
    "    A_subsets.append(Ai)\n",
    "\n",
    "    # Define F_i and put into list\n",
    "    fi = LeastSquares(Ai, b = data_subset)\n",
    "    f_subsets.append(fi)\n",
    "\n",
    "\n",
    "# Define F, G and K\n",
    "F = BlockFunction(*f_subsets)\n",
    "lb = 0.01\n",
    "G = lb * TotalVariation(lower=0)\n",
    "num_epochs = 50"
   ]
  },
  {
   "cell_type": "markdown",
   "id": "462edbe3",
   "metadata": {},
   "source": [
    "# Setup subset framework for SPDHG"
   ]
  },
  {
   "cell_type": "code",
   "execution_count": null,
   "id": "d1f1fef0",
   "metadata": {},
   "outputs": [],
   "source": [
    "# Initialize the lists containing the F_i's and A_i's\n",
    "fpd_subsets = []\n",
    "Apd_subsets = []\n",
    "\n",
    "# Define F_i's and A_i's\n",
    "for i in range(n_subsets):\n",
    "    # Total number of angles\n",
    "    n_angles = len(ag.angles)\n",
    "    # Divide the data into subsets\n",
    "    data_subset = Slicer(roi = {'angle' : (i,n_angles,n_subsets)})(noisy_sino)\n",
    "\n",
    "    # Define A_i and put into list \n",
    "    ageom_subset = data_subset.geometry\n",
    "    Ai = ProjectionOperator(ig, ageom_subset)\n",
    "    Apd_subsets.append(Ai)\n",
    "\n",
    "    # Define F_i and put into list\n",
    "    fi = L2NormSquared(b = data_subset)\n",
    "    fpd_subsets.append(fi)\n",
    "\n",
    "\n",
    "# Define F, G and K\n",
    "Fpd = BlockFunction(*fpd_subsets)\n",
    "Apd = BlockOperator(*Apd_subsets)"
   ]
  },
  {
   "cell_type": "markdown",
   "id": "4226d1a8",
   "metadata": {},
   "source": [
    "## SAGA"
   ]
  },
  {
   "cell_type": "code",
   "execution_count": null,
   "id": "07a7d8c4",
   "metadata": {},
   "outputs": [],
   "source": [
    "F_saga = SAGAFunction(F)\n",
    "# admissible step-size is gamma = 1/ (3 max_i L_i)\n",
    "step_size = 1 /(3* F_saga.Lmax)\n",
    "initial = ig.allocate(0)\n",
    "F_saga.memory_reset()\n",
    "saga = ISTA(initial=initial, \n",
    "            f=F_saga,\n",
    "            g=G,\n",
    "            step_size=step_size, update_objective_interval=n_subsets, \n",
    "            max_iteration=10000)\n",
    "saga.run(num_epochs * n_subsets, verbose=0)"
   ]
  },
  {
   "cell_type": "markdown",
   "id": "09647734",
   "metadata": {},
   "source": [
    "## SAGFunction, SVRGFunction, LSVRGFunction"
   ]
  },
  {
   "cell_type": "code",
   "execution_count": null,
   "id": "95536ea1",
   "metadata": {},
   "outputs": [],
   "source": [
    "F_sag = SAGFunction(F)\n",
    "initial = ig.allocate(0)\n",
    "F_sag.memory_reset()\n",
    "sag = ISTA(initial=initial, \n",
    "            f=F_sag,\n",
    "            g=G,\n",
    "            step_size=step_size, update_objective_interval=n_subsets, \n",
    "            max_iteration=10000)\n",
    "sag.run(num_epochs * n_subsets, verbose=0)"
   ]
  },
  {
   "cell_type": "code",
   "execution_count": null,
   "id": "c7d59f44",
   "metadata": {},
   "outputs": [],
   "source": [
    "F_svrg = SVRGFunction(F)\n",
    "initial = ig.allocate(0)\n",
    "F_svrg.memory_reset()\n",
    "svrg = ISTA(initial=initial, \n",
    "            f=F_svrg,\n",
    "            g=G,\n",
    "            step_size=step_size, update_objective_interval=n_subsets, \n",
    "            max_iteration=10000)\n",
    "svrg.run(num_epochs * n_subsets, verbose=0)"
   ]
  },
  {
   "cell_type": "code",
   "execution_count": null,
   "id": "869dbcf4",
   "metadata": {},
   "outputs": [],
   "source": [
    "F_lsvrg = LSVRGFunction(F)\n",
    "initial = ig.allocate(0)\n",
    "F_lsvrg.memory_reset()\n",
    "lsvrg = ISTA(initial=initial, \n",
    "            f=F_lsvrg,\n",
    "            g=G,\n",
    "            step_size=step_size, update_objective_interval=n_subsets, \n",
    "            max_iteration=10000)\n",
    "lsvrg.run(num_epochs * n_subsets, verbose=0)"
   ]
  },
  {
   "cell_type": "markdown",
   "id": "70a27515",
   "metadata": {},
   "source": [
    "## SPDHG"
   ]
  },
  {
   "cell_type": "code",
   "execution_count": null,
   "id": "00400729",
   "metadata": {},
   "outputs": [],
   "source": [
    "initial = ig.allocate(0)\n",
    "Gpd = lb * n_subsets * TotalVariation(lower=0)\n",
    "spdhg =  SPDHG(f=Fpd, g=Gpd, operator=Apd, \n",
    "            update_objective_interval=n_subsets, \n",
    "            max_iteration=10000)\n",
    "spdhg.run(num_epochs * n_subsets, verbose=0)"
   ]
  },
  {
   "cell_type": "markdown",
   "id": "5ed22b18",
   "metadata": {},
   "source": [
    "## SGDFunction"
   ]
  },
  {
   "cell_type": "code",
   "execution_count": null,
   "id": "049a1312",
   "metadata": {},
   "outputs": [],
   "source": [
    "F_sgd = SGDFunction(F)\n",
    "initial = ig.allocate(0)\n",
    "sgd = ISTA(initial=initial, \n",
    "            f=F_sgd,\n",
    "            g=G,\n",
    "            step_size=step_size, update_objective_interval=n_subsets, \n",
    "            max_iteration=10000)\n",
    "sgd.run(num_epochs * n_subsets, verbose=0)"
   ]
  },
  {
   "cell_type": "markdown",
   "id": "e304b170",
   "metadata": {},
   "source": [
    "## SAGA with diagonal preconditioning\n",
    "\n"
   ]
  },
  {
   "cell_type": "code",
   "execution_count": null,
   "id": "e3de04ad",
   "metadata": {},
   "outputs": [],
   "source": [
    "# With diagonal preconditioning\n",
    "\n",
    "# D(x) = diag(x / A^T \\1)\n",
    "cst = A.adjoint(A.range.allocate(1.))\n",
    "cst2 = ig.allocate(1.).divide(cst)\n",
    "precond = lambda i, x: cst2\n",
    "# precond = lambda i, x: x.divide(cst)\n",
    "# csts = [Ai.adjoint(Ai.range.allocate(1.))  for Ai in A_subsets]\n",
    "# precond = lambda i, x: x.divide(csts[i]) \n",
    "F_saga = SAGAFunction(F, precond=precond)\n",
    "step_size = 0.1\n",
    "# initial = ig.allocate(1.)\n",
    "initial = ig.allocate(0.)\n",
    "F_saga.memory_reset()\n",
    "saga_precond = ISTA(initial=initial, \n",
    "            f=F_saga,\n",
    "            g=G,\n",
    "            step_size=step_size, update_objective_interval=n_subsets, \n",
    "            max_iteration=10000)\n",
    "saga_precond.run(num_epochs * n_subsets, verbose=0)"
   ]
  },
  {
   "cell_type": "markdown",
   "id": "78d407fc",
   "metadata": {},
   "source": [
    "## SAGA with linear acceleration"
   ]
  },
  {
   "cell_type": "code",
   "execution_count": null,
   "id": "691cb0d0",
   "metadata": {},
   "outputs": [],
   "source": [
    "F_fsaga = SAGAFunction(F)\n",
    "F_saga.memory_reset()\n",
    "initial = ig.allocate(0)\n",
    "step_size = lambda k : (k+1)/F_fsaga.Lmax**(1/2)\n",
    "momentum = lambda k : 1/((k+1)*F_fsaga.Lmax**(1/2))\n",
    "fsaga = AdaptiveMomentumISTA(initial=initial, \n",
    "            f=F_fsaga,\n",
    "            g=G,\n",
    "            step_size=step_size, \n",
    "            momentum = momentum,\n",
    "            update_objective_interval=n_subsets, \n",
    "            max_iteration=10000)\n",
    "fsaga.run(num_epochs * n_subsets, verbose=0)"
   ]
  },
  {
   "cell_type": "code",
   "execution_count": null,
   "id": "c88361f9-e8fc-42e6-a7e1-3550be731416",
   "metadata": {},
   "outputs": [],
   "source": [
    "# Look at results\n",
    "show2D([saga.solution, sag.solution, svrg.solution, lsvrg.solution, spdhg.solution, saga_precond.solution,sgd.solution, fsaga.solution], \n",
    "       origin=\"upper\", \n",
    "       title=[\"SAGA\", \"SAG\", \"SVRG\", \"L-SVRG\", \"SPDHG\", \"SAGA precond\", \"SGD\", \"F-SAGA\"],\n",
    "       fix_range=(0,1), num_cols=4,\n",
    "       cmap='inferno')"
   ]
  },
  {
   "cell_type": "code",
   "execution_count": null,
   "id": "6586ad94",
   "metadata": {},
   "outputs": [],
   "source": [
    "# compare results\n",
    "plt.figure(figsize=(20,10))\n",
    "plt.semilogy(saga.objective, label=\"SAGA\")\n",
    "plt.semilogy(sag.objective, label=\"SAG\")\n",
    "plt.semilogy(svrg.objective, label=\"SVRG\")\n",
    "plt.semilogy(lsvrg.objective, label=\"L-SVRG\")\n",
    "plt.semilogy([1/n_subsets * o for o in spdhg.objective], label=\"SPDHG\")\n",
    "plt.semilogy(saga_precond.objective, '--', label=\"SAGA precond\",)\n",
    "plt.semilogy(fsaga.objective, '--', label=\"F-SAGA\")\n",
    "plt.semilogy(sgd.objective, '--', label=\"SGD\")\n",
    "plt.legend()\n",
    "plt.ylabel('Epochs')\n",
    "plt.xlabel('Objective function')\n",
    "plt.show()"
   ]
  }
 ],
 "metadata": {
  "kernelspec": {
   "display_name": "Python 3 (ipykernel)",
   "language": "python",
   "name": "python3"
  },
  "language_info": {
   "codemirror_mode": {
    "name": "ipython",
    "version": 3
   },
   "file_extension": ".py",
   "mimetype": "text/x-python",
   "name": "python",
   "nbconvert_exporter": "python",
   "pygments_lexer": "ipython3",
   "version": "3.10.2"
  }
 },
 "nbformat": 4,
 "nbformat_minor": 5
}
