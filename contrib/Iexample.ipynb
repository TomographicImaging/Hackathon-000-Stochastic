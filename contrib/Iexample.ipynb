{
 "cells": [
  {
   "cell_type": "code",
   "execution_count": 1,
   "id": "414cc018-0c73-4b92-8b29-7813acc0437e",
   "metadata": {},
   "outputs": [
    {
     "name": "stderr",
     "output_type": "stream",
     "text": [
      "\n",
      "WARNING: Interfile warning: 'distance between crystals in axial direction (cm)' invalid.\n",
      "\n",
      "\n",
      "WARNING: Interfile warning: 'distance between crystals in transaxial direction (cm)' invalid.\n",
      "\n",
      "\n",
      "WARNING: Interfile warning: 'distance between blocks in axial direction (cm)' invalid.\n",
      "\n",
      "\n",
      "WARNING: Interfile warning: 'distance between blocks in transaxial direction (cm)' invalid.\n",
      "\n",
      "\n",
      "WARNING: Interfile parsing ended up with the following scanner:\n",
      "Scanner parameters:= \n",
      "Scanner type := userdefined\n",
      "Number of rings                          := 2\n",
      "Number of detectors per ring             := 512\n",
      "Inner ring diameter (cm)                 := 102\n",
      "Average depth of interaction (cm)        := 0.7\n",
      "Distance between rings (cm)              := 1.35\n",
      "Default bin size (cm)                    := 0.3129\n",
      "View offset (degrees)                    := 0\n",
      "Maximum number of non-arc-corrected bins := 192\n",
      "Default number of arc-corrected bins     := 192\n",
      "Number of blocks per bucket in transaxial direction         := 1\n",
      "Number of blocks per bucket in axial direction              := 1\n",
      "Number of crystals per block in axial direction             := 1\n",
      "Number of crystals per block in transaxial direction        := 8\n",
      "Number of detector layers                                   := 1\n",
      "Number of crystals per singles unit in axial direction      := 1\n",
      "Number of crystals per singles unit in transaxial direction := 8\n",
      "Scanner geometry (BlocksOnCylindrical/Cylindrical/Generic)  := Cylindrical\n",
      "Scanner orientation (X or Y)                                := X\n",
      "end scanner parameters:=\n",
      "\n",
      "\n",
      "\n",
      "WARNING: Disabling symmetries as image is rotated due to phi offset of the scanner.\n",
      "\n",
      "WARNING: Disabling symmetries as image is rotated due to phi offset of the scanner.\n",
      "\n",
      "WARNING: forward_project. Imaging modality unknown for either the image or the projection data or both.\n",
      "Going ahead anyway.\n"
     ]
    },
    {
     "name": "stdout",
     "output_type": "stream",
     "text": [
      "\n",
      "INFO: Setting energy window keys as in STIR3.0\n",
      "\n",
      "INFO: Detected view-mashing factor 4 from the number of views (64) and the number of detectors per ring (512).\n",
      "Adjusting the azimuthal angle offset accordingly (an extra offset of 1.05469 degrees)\n",
      "ISTA setting up\n",
      "ISTA configured\n",
      "     Iter   Max Iter     Time/Iter            Objective\n",
      "                               [s]                     \n"
     ]
    },
    {
     "name": "stderr",
     "output_type": "stream",
     "text": [
      "\n",
      "WARNING: forward_project. Imaging modality unknown for either the image or the projection data or both.\n",
      "Going ahead anyway.\n"
     ]
    },
    {
     "name": "stdout",
     "output_type": "stream",
     "text": [
      "        0 10000000000.0         0.000          3.70638e+06\n"
     ]
    },
    {
     "name": "stderr",
     "output_type": "stream",
     "text": [
      "\n",
      "WARNING: forward_project. Imaging modality unknown for either the image or the projection data or both.\n",
      "Going ahead anyway.\n",
      "\n",
      "WARNING: forward_project. Imaging modality unknown for either the image or the projection data or both.\n",
      "Going ahead anyway.\n",
      "\n",
      "WARNING: forward_project. Imaging modality unknown for either the image or the projection data or both.\n",
      "Going ahead anyway.\n"
     ]
    },
    {
     "name": "stdout",
     "output_type": "stream",
     "text": [
      "        1 10000000000.0         0.421          1.32775e+07\n"
     ]
    },
    {
     "name": "stderr",
     "output_type": "stream",
     "text": [
      "\n",
      "WARNING: forward_project. Imaging modality unknown for either the image or the projection data or both.\n",
      "Going ahead anyway.\n",
      "\n",
      "WARNING: forward_project. Imaging modality unknown for either the image or the projection data or both.\n",
      "Going ahead anyway.\n"
     ]
    },
    {
     "name": "stdout",
     "output_type": "stream",
     "text": [
      "        2 10000000000.0         0.340          7.53836e+06\n"
     ]
    },
    {
     "name": "stderr",
     "output_type": "stream",
     "text": [
      "\n",
      "WARNING: forward_project. Imaging modality unknown for either the image or the projection data or both.\n",
      "Going ahead anyway.\n",
      "\n",
      "WARNING: forward_project. Imaging modality unknown for either the image or the projection data or both.\n",
      "Going ahead anyway.\n"
     ]
    },
    {
     "name": "stdout",
     "output_type": "stream",
     "text": [
      "        3 10000000000.0         0.312          3.66936e+06\n"
     ]
    },
    {
     "name": "stderr",
     "output_type": "stream",
     "text": [
      "\n",
      "WARNING: forward_project. Imaging modality unknown for either the image or the projection data or both.\n",
      "Going ahead anyway.\n",
      "\n",
      "WARNING: forward_project. Imaging modality unknown for either the image or the projection data or both.\n",
      "Going ahead anyway.\n"
     ]
    },
    {
     "name": "stdout",
     "output_type": "stream",
     "text": [
      "        4 10000000000.0         0.298          1.96859e+06\n"
     ]
    },
    {
     "name": "stderr",
     "output_type": "stream",
     "text": [
      "\n",
      "WARNING: forward_project. Imaging modality unknown for either the image or the projection data or both.\n",
      "Going ahead anyway.\n",
      "\n",
      "WARNING: forward_project. Imaging modality unknown for either the image or the projection data or both.\n",
      "Going ahead anyway.\n"
     ]
    },
    {
     "name": "stdout",
     "output_type": "stream",
     "text": [
      "        5 10000000000.0         0.288          1.18161e+06\n"
     ]
    },
    {
     "name": "stderr",
     "output_type": "stream",
     "text": [
      "\n",
      "WARNING: forward_project. Imaging modality unknown for either the image or the projection data or both.\n",
      "Going ahead anyway.\n",
      "\n",
      "WARNING: forward_project. Imaging modality unknown for either the image or the projection data or both.\n",
      "Going ahead anyway.\n"
     ]
    },
    {
     "name": "stdout",
     "output_type": "stream",
     "text": [
      "        6 10000000000.0         0.283          8.42544e+05\n"
     ]
    },
    {
     "name": "stderr",
     "output_type": "stream",
     "text": [
      "\n",
      "WARNING: forward_project. Imaging modality unknown for either the image or the projection data or both.\n",
      "Going ahead anyway.\n",
      "\n",
      "WARNING: forward_project. Imaging modality unknown for either the image or the projection data or both.\n",
      "Going ahead anyway.\n"
     ]
    },
    {
     "name": "stdout",
     "output_type": "stream",
     "text": [
      "        7 10000000000.0         0.280          7.23370e+05\n"
     ]
    },
    {
     "name": "stderr",
     "output_type": "stream",
     "text": [
      "\n",
      "WARNING: forward_project. Imaging modality unknown for either the image or the projection data or both.\n",
      "Going ahead anyway.\n",
      "\n",
      "WARNING: forward_project. Imaging modality unknown for either the image or the projection data or both.\n",
      "Going ahead anyway.\n"
     ]
    },
    {
     "name": "stdout",
     "output_type": "stream",
     "text": [
      "        8 10000000000.0         0.277          6.86498e+05\n"
     ]
    },
    {
     "name": "stderr",
     "output_type": "stream",
     "text": [
      "\n",
      "WARNING: forward_project. Imaging modality unknown for either the image or the projection data or both.\n",
      "Going ahead anyway.\n",
      "\n",
      "WARNING: forward_project. Imaging modality unknown for either the image or the projection data or both.\n",
      "Going ahead anyway.\n"
     ]
    },
    {
     "name": "stdout",
     "output_type": "stream",
     "text": [
      "        9 10000000000.0         0.275          6.73182e+05\n"
     ]
    },
    {
     "name": "stderr",
     "output_type": "stream",
     "text": [
      "\n",
      "WARNING: forward_project. Imaging modality unknown for either the image or the projection data or both.\n",
      "Going ahead anyway.\n",
      "\n",
      "WARNING: forward_project. Imaging modality unknown for either the image or the projection data or both.\n",
      "Going ahead anyway.\n"
     ]
    },
    {
     "name": "stdout",
     "output_type": "stream",
     "text": [
      "       10 10000000000.0         0.273          6.67165e+05\n"
     ]
    },
    {
     "name": "stderr",
     "output_type": "stream",
     "text": [
      "\n",
      "WARNING: forward_project. Imaging modality unknown for either the image or the projection data or both.\n",
      "Going ahead anyway.\n",
      "\n",
      "WARNING: forward_project. Imaging modality unknown for either the image or the projection data or both.\n",
      "Going ahead anyway.\n"
     ]
    },
    {
     "name": "stdout",
     "output_type": "stream",
     "text": [
      "       11 10000000000.0         0.272          6.64056e+05\n"
     ]
    },
    {
     "name": "stderr",
     "output_type": "stream",
     "text": [
      "\n",
      "WARNING: forward_project. Imaging modality unknown for either the image or the projection data or both.\n",
      "Going ahead anyway.\n",
      "\n",
      "WARNING: forward_project. Imaging modality unknown for either the image or the projection data or both.\n",
      "Going ahead anyway.\n"
     ]
    },
    {
     "name": "stdout",
     "output_type": "stream",
     "text": [
      "       12 10000000000.0         0.270          6.62290e+05\n"
     ]
    },
    {
     "name": "stderr",
     "output_type": "stream",
     "text": [
      "\n",
      "WARNING: forward_project. Imaging modality unknown for either the image or the projection data or both.\n",
      "Going ahead anyway.\n",
      "\n",
      "WARNING: forward_project. Imaging modality unknown for either the image or the projection data or both.\n",
      "Going ahead anyway.\n"
     ]
    },
    {
     "name": "stdout",
     "output_type": "stream",
     "text": [
      "       13 10000000000.0         0.269          6.61201e+05\n"
     ]
    },
    {
     "name": "stderr",
     "output_type": "stream",
     "text": [
      "\n",
      "WARNING: forward_project. Imaging modality unknown for either the image or the projection data or both.\n",
      "Going ahead anyway.\n",
      "\n",
      "WARNING: forward_project. Imaging modality unknown for either the image or the projection data or both.\n",
      "Going ahead anyway.\n"
     ]
    },
    {
     "name": "stdout",
     "output_type": "stream",
     "text": [
      "       14 10000000000.0         0.270          6.60479e+05\n"
     ]
    },
    {
     "name": "stderr",
     "output_type": "stream",
     "text": [
      "\n",
      "WARNING: forward_project. Imaging modality unknown for either the image or the projection data or both.\n",
      "Going ahead anyway.\n",
      "\n",
      "WARNING: forward_project. Imaging modality unknown for either the image or the projection data or both.\n",
      "Going ahead anyway.\n"
     ]
    },
    {
     "name": "stdout",
     "output_type": "stream",
     "text": [
      "       15 10000000000.0         0.268          6.59966e+05\n"
     ]
    },
    {
     "name": "stderr",
     "output_type": "stream",
     "text": [
      "\n",
      "WARNING: forward_project. Imaging modality unknown for either the image or the projection data or both.\n",
      "Going ahead anyway.\n",
      "\n",
      "WARNING: forward_project. Imaging modality unknown for either the image or the projection data or both.\n",
      "Going ahead anyway.\n"
     ]
    },
    {
     "name": "stdout",
     "output_type": "stream",
     "text": [
      "       16 10000000000.0         0.266          6.59581e+05\n"
     ]
    },
    {
     "name": "stderr",
     "output_type": "stream",
     "text": [
      "\n",
      "WARNING: forward_project. Imaging modality unknown for either the image or the projection data or both.\n",
      "Going ahead anyway.\n",
      "\n",
      "WARNING: forward_project. Imaging modality unknown for either the image or the projection data or both.\n",
      "Going ahead anyway.\n"
     ]
    },
    {
     "name": "stdout",
     "output_type": "stream",
     "text": [
      "       17 10000000000.0         0.265          6.59278e+05\n"
     ]
    },
    {
     "name": "stderr",
     "output_type": "stream",
     "text": [
      "\n",
      "WARNING: forward_project. Imaging modality unknown for either the image or the projection data or both.\n",
      "Going ahead anyway.\n",
      "\n",
      "WARNING: forward_project. Imaging modality unknown for either the image or the projection data or both.\n",
      "Going ahead anyway.\n"
     ]
    },
    {
     "name": "stdout",
     "output_type": "stream",
     "text": [
      "       18 10000000000.0         0.264          6.59031e+05\n"
     ]
    },
    {
     "name": "stderr",
     "output_type": "stream",
     "text": [
      "\n",
      "WARNING: forward_project. Imaging modality unknown for either the image or the projection data or both.\n",
      "Going ahead anyway.\n",
      "\n",
      "WARNING: forward_project. Imaging modality unknown for either the image or the projection data or both.\n",
      "Going ahead anyway.\n"
     ]
    },
    {
     "name": "stdout",
     "output_type": "stream",
     "text": [
      "       19 10000000000.0         0.262          6.58823e+05\n"
     ]
    },
    {
     "name": "stderr",
     "output_type": "stream",
     "text": [
      "\n",
      "WARNING: forward_project. Imaging modality unknown for either the image or the projection data or both.\n",
      "Going ahead anyway.\n",
      "\n",
      "WARNING: forward_project. Imaging modality unknown for either the image or the projection data or both.\n",
      "Going ahead anyway.\n"
     ]
    },
    {
     "name": "stdout",
     "output_type": "stream",
     "text": [
      "       20 10000000000.0         0.261          6.58643e+05\n"
     ]
    },
    {
     "name": "stderr",
     "output_type": "stream",
     "text": [
      "\n",
      "WARNING: forward_project. Imaging modality unknown for either the image or the projection data or both.\n",
      "Going ahead anyway.\n",
      "\n",
      "WARNING: forward_project. Imaging modality unknown for either the image or the projection data or both.\n",
      "Going ahead anyway.\n"
     ]
    },
    {
     "name": "stdout",
     "output_type": "stream",
     "text": [
      "       21 10000000000.0         0.260          6.58485e+05\n"
     ]
    },
    {
     "name": "stderr",
     "output_type": "stream",
     "text": [
      "\n",
      "WARNING: forward_project. Imaging modality unknown for either the image or the projection data or both.\n",
      "Going ahead anyway.\n",
      "\n",
      "WARNING: forward_project. Imaging modality unknown for either the image or the projection data or both.\n",
      "Going ahead anyway.\n"
     ]
    },
    {
     "name": "stdout",
     "output_type": "stream",
     "text": [
      "       22 10000000000.0         0.259          6.58345e+05\n"
     ]
    },
    {
     "name": "stderr",
     "output_type": "stream",
     "text": [
      "\n",
      "WARNING: forward_project. Imaging modality unknown for either the image or the projection data or both.\n",
      "Going ahead anyway.\n",
      "\n",
      "WARNING: forward_project. Imaging modality unknown for either the image or the projection data or both.\n",
      "Going ahead anyway.\n"
     ]
    },
    {
     "name": "stdout",
     "output_type": "stream",
     "text": [
      "       23 10000000000.0         0.258          6.58219e+05\n"
     ]
    },
    {
     "name": "stderr",
     "output_type": "stream",
     "text": [
      "\n",
      "WARNING: forward_project. Imaging modality unknown for either the image or the projection data or both.\n",
      "Going ahead anyway.\n",
      "\n",
      "WARNING: forward_project. Imaging modality unknown for either the image or the projection data or both.\n",
      "Going ahead anyway.\n"
     ]
    },
    {
     "name": "stdout",
     "output_type": "stream",
     "text": [
      "       24 10000000000.0         0.257          6.58104e+05\n"
     ]
    },
    {
     "name": "stderr",
     "output_type": "stream",
     "text": [
      "\n",
      "WARNING: forward_project. Imaging modality unknown for either the image or the projection data or both.\n",
      "Going ahead anyway.\n",
      "\n",
      "WARNING: forward_project. Imaging modality unknown for either the image or the projection data or both.\n",
      "Going ahead anyway.\n"
     ]
    },
    {
     "name": "stdout",
     "output_type": "stream",
     "text": [
      "       25 10000000000.0         0.257          6.58000e+05\n"
     ]
    },
    {
     "name": "stderr",
     "output_type": "stream",
     "text": [
      "\n",
      "WARNING: forward_project. Imaging modality unknown for either the image or the projection data or both.\n",
      "Going ahead anyway.\n",
      "\n",
      "WARNING: forward_project. Imaging modality unknown for either the image or the projection data or both.\n",
      "Going ahead anyway.\n"
     ]
    },
    {
     "name": "stdout",
     "output_type": "stream",
     "text": [
      "       26 10000000000.0         0.256          6.57904e+05\n"
     ]
    },
    {
     "name": "stderr",
     "output_type": "stream",
     "text": [
      "\n",
      "WARNING: forward_project. Imaging modality unknown for either the image or the projection data or both.\n",
      "Going ahead anyway.\n",
      "\n",
      "WARNING: forward_project. Imaging modality unknown for either the image or the projection data or both.\n",
      "Going ahead anyway.\n"
     ]
    },
    {
     "name": "stdout",
     "output_type": "stream",
     "text": [
      "       27 10000000000.0         0.256          6.57816e+05\n"
     ]
    },
    {
     "name": "stderr",
     "output_type": "stream",
     "text": [
      "\n",
      "WARNING: forward_project. Imaging modality unknown for either the image or the projection data or both.\n",
      "Going ahead anyway.\n",
      "\n",
      "WARNING: forward_project. Imaging modality unknown for either the image or the projection data or both.\n",
      "Going ahead anyway.\n"
     ]
    },
    {
     "name": "stdout",
     "output_type": "stream",
     "text": [
      "       28 10000000000.0         0.255          6.57734e+05\n"
     ]
    },
    {
     "name": "stderr",
     "output_type": "stream",
     "text": [
      "\n",
      "WARNING: forward_project. Imaging modality unknown for either the image or the projection data or both.\n",
      "Going ahead anyway.\n",
      "\n",
      "WARNING: forward_project. Imaging modality unknown for either the image or the projection data or both.\n",
      "Going ahead anyway.\n"
     ]
    },
    {
     "name": "stdout",
     "output_type": "stream",
     "text": [
      "       29 10000000000.0         0.255          6.57658e+05\n"
     ]
    },
    {
     "name": "stderr",
     "output_type": "stream",
     "text": [
      "\n",
      "WARNING: forward_project. Imaging modality unknown for either the image or the projection data or both.\n",
      "Going ahead anyway.\n",
      "\n",
      "WARNING: forward_project. Imaging modality unknown for either the image or the projection data or both.\n",
      "Going ahead anyway.\n"
     ]
    },
    {
     "name": "stdout",
     "output_type": "stream",
     "text": [
      "       30 10000000000.0         0.254          6.57588e+05\n"
     ]
    },
    {
     "name": "stderr",
     "output_type": "stream",
     "text": [
      "\n",
      "WARNING: forward_project. Imaging modality unknown for either the image or the projection data or both.\n",
      "Going ahead anyway.\n",
      "\n",
      "WARNING: forward_project. Imaging modality unknown for either the image or the projection data or both.\n",
      "Going ahead anyway.\n"
     ]
    },
    {
     "name": "stdout",
     "output_type": "stream",
     "text": [
      "       31 10000000000.0         0.254          6.57523e+05\n"
     ]
    },
    {
     "name": "stderr",
     "output_type": "stream",
     "text": [
      "\n",
      "WARNING: forward_project. Imaging modality unknown for either the image or the projection data or both.\n",
      "Going ahead anyway.\n",
      "\n",
      "WARNING: forward_project. Imaging modality unknown for either the image or the projection data or both.\n",
      "Going ahead anyway.\n"
     ]
    },
    {
     "name": "stdout",
     "output_type": "stream",
     "text": [
      "       32 10000000000.0         0.254          6.57462e+05\n"
     ]
    },
    {
     "name": "stderr",
     "output_type": "stream",
     "text": [
      "\n",
      "WARNING: forward_project. Imaging modality unknown for either the image or the projection data or both.\n",
      "Going ahead anyway.\n",
      "\n",
      "WARNING: forward_project. Imaging modality unknown for either the image or the projection data or both.\n",
      "Going ahead anyway.\n"
     ]
    },
    {
     "name": "stdout",
     "output_type": "stream",
     "text": [
      "       33 10000000000.0         0.253          6.57405e+05\n"
     ]
    },
    {
     "name": "stderr",
     "output_type": "stream",
     "text": [
      "\n",
      "WARNING: forward_project. Imaging modality unknown for either the image or the projection data or both.\n",
      "Going ahead anyway.\n",
      "\n",
      "WARNING: forward_project. Imaging modality unknown for either the image or the projection data or both.\n",
      "Going ahead anyway.\n"
     ]
    },
    {
     "name": "stdout",
     "output_type": "stream",
     "text": [
      "       34 10000000000.0         0.253          6.57351e+05\n"
     ]
    },
    {
     "name": "stderr",
     "output_type": "stream",
     "text": [
      "\n",
      "WARNING: forward_project. Imaging modality unknown for either the image or the projection data or both.\n",
      "Going ahead anyway.\n",
      "\n",
      "WARNING: forward_project. Imaging modality unknown for either the image or the projection data or both.\n",
      "Going ahead anyway.\n"
     ]
    },
    {
     "name": "stdout",
     "output_type": "stream",
     "text": [
      "       35 10000000000.0         0.253          6.57301e+05\n"
     ]
    },
    {
     "name": "stderr",
     "output_type": "stream",
     "text": [
      "\n",
      "WARNING: forward_project. Imaging modality unknown for either the image or the projection data or both.\n",
      "Going ahead anyway.\n",
      "\n",
      "WARNING: forward_project. Imaging modality unknown for either the image or the projection data or both.\n",
      "Going ahead anyway.\n"
     ]
    },
    {
     "name": "stdout",
     "output_type": "stream",
     "text": [
      "       36 10000000000.0         0.253          6.57254e+05\n"
     ]
    },
    {
     "name": "stderr",
     "output_type": "stream",
     "text": [
      "\n",
      "WARNING: forward_project. Imaging modality unknown for either the image or the projection data or both.\n",
      "Going ahead anyway.\n",
      "\n",
      "WARNING: forward_project. Imaging modality unknown for either the image or the projection data or both.\n",
      "Going ahead anyway.\n"
     ]
    },
    {
     "name": "stdout",
     "output_type": "stream",
     "text": [
      "       37 10000000000.0         0.253          6.57210e+05\n"
     ]
    },
    {
     "name": "stderr",
     "output_type": "stream",
     "text": [
      "\n",
      "WARNING: forward_project. Imaging modality unknown for either the image or the projection data or both.\n",
      "Going ahead anyway.\n",
      "\n",
      "WARNING: forward_project. Imaging modality unknown for either the image or the projection data or both.\n",
      "Going ahead anyway.\n"
     ]
    },
    {
     "name": "stdout",
     "output_type": "stream",
     "text": [
      "       38 10000000000.0         0.252          6.57168e+05\n"
     ]
    },
    {
     "name": "stderr",
     "output_type": "stream",
     "text": [
      "\n",
      "WARNING: forward_project. Imaging modality unknown for either the image or the projection data or both.\n",
      "Going ahead anyway.\n",
      "\n",
      "WARNING: forward_project. Imaging modality unknown for either the image or the projection data or both.\n",
      "Going ahead anyway.\n"
     ]
    },
    {
     "name": "stdout",
     "output_type": "stream",
     "text": [
      "       39 10000000000.0         0.252          6.57128e+05\n"
     ]
    },
    {
     "name": "stderr",
     "output_type": "stream",
     "text": [
      "\n",
      "WARNING: forward_project. Imaging modality unknown for either the image or the projection data or both.\n",
      "Going ahead anyway.\n",
      "\n",
      "WARNING: forward_project. Imaging modality unknown for either the image or the projection data or both.\n",
      "Going ahead anyway.\n"
     ]
    },
    {
     "name": "stdout",
     "output_type": "stream",
     "text": [
      "       40 10000000000.0         0.251          6.57091e+05\n"
     ]
    },
    {
     "name": "stderr",
     "output_type": "stream",
     "text": [
      "\n",
      "WARNING: forward_project. Imaging modality unknown for either the image or the projection data or both.\n",
      "Going ahead anyway.\n",
      "\n",
      "WARNING: forward_project. Imaging modality unknown for either the image or the projection data or both.\n",
      "Going ahead anyway.\n"
     ]
    },
    {
     "name": "stdout",
     "output_type": "stream",
     "text": [
      "       41 10000000000.0         0.251          6.57056e+05\n"
     ]
    },
    {
     "name": "stderr",
     "output_type": "stream",
     "text": [
      "\n",
      "WARNING: forward_project. Imaging modality unknown for either the image or the projection data or both.\n",
      "Going ahead anyway.\n",
      "\n",
      "WARNING: forward_project. Imaging modality unknown for either the image or the projection data or both.\n",
      "Going ahead anyway.\n"
     ]
    },
    {
     "name": "stdout",
     "output_type": "stream",
     "text": [
      "       42 10000000000.0         0.251          6.57023e+05\n"
     ]
    },
    {
     "name": "stderr",
     "output_type": "stream",
     "text": [
      "\n",
      "WARNING: forward_project. Imaging modality unknown for either the image or the projection data or both.\n",
      "Going ahead anyway.\n",
      "\n",
      "WARNING: forward_project. Imaging modality unknown for either the image or the projection data or both.\n",
      "Going ahead anyway.\n"
     ]
    },
    {
     "name": "stdout",
     "output_type": "stream",
     "text": [
      "       43 10000000000.0         0.251          6.56992e+05\n"
     ]
    },
    {
     "name": "stderr",
     "output_type": "stream",
     "text": [
      "\n",
      "WARNING: forward_project. Imaging modality unknown for either the image or the projection data or both.\n",
      "Going ahead anyway.\n",
      "\n",
      "WARNING: forward_project. Imaging modality unknown for either the image or the projection data or both.\n",
      "Going ahead anyway.\n"
     ]
    },
    {
     "name": "stdout",
     "output_type": "stream",
     "text": [
      "       44 10000000000.0         0.250          6.56962e+05\n"
     ]
    },
    {
     "name": "stderr",
     "output_type": "stream",
     "text": [
      "\n",
      "WARNING: forward_project. Imaging modality unknown for either the image or the projection data or both.\n",
      "Going ahead anyway.\n",
      "\n",
      "WARNING: forward_project. Imaging modality unknown for either the image or the projection data or both.\n",
      "Going ahead anyway.\n"
     ]
    },
    {
     "name": "stdout",
     "output_type": "stream",
     "text": [
      "       45 10000000000.0         0.250          6.56934e+05\n"
     ]
    },
    {
     "name": "stderr",
     "output_type": "stream",
     "text": [
      "\n",
      "WARNING: forward_project. Imaging modality unknown for either the image or the projection data or both.\n",
      "Going ahead anyway.\n",
      "\n",
      "WARNING: forward_project. Imaging modality unknown for either the image or the projection data or both.\n",
      "Going ahead anyway.\n"
     ]
    },
    {
     "name": "stdout",
     "output_type": "stream",
     "text": [
      "       46 10000000000.0         0.250          6.56908e+05\n"
     ]
    },
    {
     "name": "stderr",
     "output_type": "stream",
     "text": [
      "\n",
      "WARNING: forward_project. Imaging modality unknown for either the image or the projection data or both.\n",
      "Going ahead anyway.\n",
      "\n",
      "WARNING: forward_project. Imaging modality unknown for either the image or the projection data or both.\n",
      "Going ahead anyway.\n"
     ]
    },
    {
     "name": "stdout",
     "output_type": "stream",
     "text": [
      "       47 10000000000.0         0.249          6.56882e+05\n"
     ]
    },
    {
     "name": "stderr",
     "output_type": "stream",
     "text": [
      "\n",
      "WARNING: forward_project. Imaging modality unknown for either the image or the projection data or both.\n",
      "Going ahead anyway.\n",
      "\n",
      "WARNING: forward_project. Imaging modality unknown for either the image or the projection data or both.\n",
      "Going ahead anyway.\n"
     ]
    },
    {
     "name": "stdout",
     "output_type": "stream",
     "text": [
      "       48 10000000000.0         0.249          6.56858e+05\n"
     ]
    },
    {
     "name": "stderr",
     "output_type": "stream",
     "text": [
      "\n",
      "WARNING: forward_project. Imaging modality unknown for either the image or the projection data or both.\n",
      "Going ahead anyway.\n",
      "\n",
      "WARNING: forward_project. Imaging modality unknown for either the image or the projection data or both.\n",
      "Going ahead anyway.\n"
     ]
    },
    {
     "name": "stdout",
     "output_type": "stream",
     "text": [
      "       49 10000000000.0         0.249          6.56836e+05\n"
     ]
    },
    {
     "name": "stderr",
     "output_type": "stream",
     "text": [
      "\n",
      "WARNING: forward_project. Imaging modality unknown for either the image or the projection data or both.\n",
      "Going ahead anyway.\n",
      "\n",
      "WARNING: forward_project. Imaging modality unknown for either the image or the projection data or both.\n",
      "Going ahead anyway.\n"
     ]
    },
    {
     "name": "stdout",
     "output_type": "stream",
     "text": [
      "       50 10000000000.0         0.249          6.56814e+05\n"
     ]
    },
    {
     "name": "stderr",
     "output_type": "stream",
     "text": [
      "\n",
      "WARNING: forward_project. Imaging modality unknown for either the image or the projection data or both.\n",
      "Going ahead anyway.\n",
      "\n",
      "WARNING: forward_project. Imaging modality unknown for either the image or the projection data or both.\n",
      "Going ahead anyway.\n"
     ]
    },
    {
     "name": "stdout",
     "output_type": "stream",
     "text": [
      "       51 10000000000.0         0.249          6.56793e+05\n"
     ]
    },
    {
     "name": "stderr",
     "output_type": "stream",
     "text": [
      "\n",
      "WARNING: forward_project. Imaging modality unknown for either the image or the projection data or both.\n",
      "Going ahead anyway.\n",
      "\n",
      "WARNING: forward_project. Imaging modality unknown for either the image or the projection data or both.\n",
      "Going ahead anyway.\n"
     ]
    },
    {
     "name": "stdout",
     "output_type": "stream",
     "text": [
      "       52 10000000000.0         0.249          6.56774e+05\n"
     ]
    },
    {
     "name": "stderr",
     "output_type": "stream",
     "text": [
      "\n",
      "WARNING: forward_project. Imaging modality unknown for either the image or the projection data or both.\n",
      "Going ahead anyway.\n",
      "\n",
      "WARNING: forward_project. Imaging modality unknown for either the image or the projection data or both.\n",
      "Going ahead anyway.\n"
     ]
    },
    {
     "name": "stdout",
     "output_type": "stream",
     "text": [
      "       53 10000000000.0         0.249          6.56755e+05\n"
     ]
    },
    {
     "name": "stderr",
     "output_type": "stream",
     "text": [
      "\n",
      "WARNING: forward_project. Imaging modality unknown for either the image or the projection data or both.\n",
      "Going ahead anyway.\n",
      "\n",
      "WARNING: forward_project. Imaging modality unknown for either the image or the projection data or both.\n",
      "Going ahead anyway.\n"
     ]
    },
    {
     "name": "stdout",
     "output_type": "stream",
     "text": [
      "       54 10000000000.0         0.249          6.56738e+05\n"
     ]
    },
    {
     "name": "stderr",
     "output_type": "stream",
     "text": [
      "\n",
      "WARNING: forward_project. Imaging modality unknown for either the image or the projection data or both.\n",
      "Going ahead anyway.\n",
      "\n",
      "WARNING: forward_project. Imaging modality unknown for either the image or the projection data or both.\n",
      "Going ahead anyway.\n"
     ]
    },
    {
     "name": "stdout",
     "output_type": "stream",
     "text": [
      "       55 10000000000.0         0.250          6.56721e+05\n"
     ]
    },
    {
     "name": "stderr",
     "output_type": "stream",
     "text": [
      "\n",
      "WARNING: forward_project. Imaging modality unknown for either the image or the projection data or both.\n",
      "Going ahead anyway.\n",
      "\n",
      "WARNING: forward_project. Imaging modality unknown for either the image or the projection data or both.\n",
      "Going ahead anyway.\n"
     ]
    },
    {
     "name": "stdout",
     "output_type": "stream",
     "text": [
      "       56 10000000000.0         0.249          6.56705e+05\n"
     ]
    },
    {
     "name": "stderr",
     "output_type": "stream",
     "text": [
      "\n",
      "WARNING: forward_project. Imaging modality unknown for either the image or the projection data or both.\n",
      "Going ahead anyway.\n",
      "\n",
      "WARNING: forward_project. Imaging modality unknown for either the image or the projection data or both.\n",
      "Going ahead anyway.\n"
     ]
    },
    {
     "name": "stdout",
     "output_type": "stream",
     "text": [
      "       57 10000000000.0         0.249          6.56689e+05\n"
     ]
    },
    {
     "name": "stderr",
     "output_type": "stream",
     "text": [
      "\n",
      "WARNING: forward_project. Imaging modality unknown for either the image or the projection data or both.\n",
      "Going ahead anyway.\n",
      "\n",
      "WARNING: forward_project. Imaging modality unknown for either the image or the projection data or both.\n",
      "Going ahead anyway.\n"
     ]
    },
    {
     "name": "stdout",
     "output_type": "stream",
     "text": [
      "       58 10000000000.0         0.249          6.56675e+05\n"
     ]
    },
    {
     "name": "stderr",
     "output_type": "stream",
     "text": [
      "\n",
      "WARNING: forward_project. Imaging modality unknown for either the image or the projection data or both.\n",
      "Going ahead anyway.\n",
      "\n",
      "WARNING: forward_project. Imaging modality unknown for either the image or the projection data or both.\n",
      "Going ahead anyway.\n"
     ]
    },
    {
     "name": "stdout",
     "output_type": "stream",
     "text": [
      "       59 10000000000.0         0.249          6.56661e+05\n"
     ]
    },
    {
     "name": "stderr",
     "output_type": "stream",
     "text": [
      "\n",
      "WARNING: forward_project. Imaging modality unknown for either the image or the projection data or both.\n",
      "Going ahead anyway.\n",
      "\n",
      "WARNING: forward_project. Imaging modality unknown for either the image or the projection data or both.\n",
      "Going ahead anyway.\n"
     ]
    },
    {
     "name": "stdout",
     "output_type": "stream",
     "text": [
      "       60 10000000000.0         0.249          6.56647e+05\n"
     ]
    },
    {
     "name": "stderr",
     "output_type": "stream",
     "text": [
      "\n",
      "WARNING: forward_project. Imaging modality unknown for either the image or the projection data or both.\n",
      "Going ahead anyway.\n",
      "\n",
      "WARNING: forward_project. Imaging modality unknown for either the image or the projection data or both.\n",
      "Going ahead anyway.\n"
     ]
    },
    {
     "name": "stdout",
     "output_type": "stream",
     "text": [
      "       61 10000000000.0         0.248          6.56635e+05\n"
     ]
    },
    {
     "name": "stderr",
     "output_type": "stream",
     "text": [
      "\n",
      "WARNING: forward_project. Imaging modality unknown for either the image or the projection data or both.\n",
      "Going ahead anyway.\n",
      "\n",
      "WARNING: forward_project. Imaging modality unknown for either the image or the projection data or both.\n",
      "Going ahead anyway.\n"
     ]
    },
    {
     "name": "stdout",
     "output_type": "stream",
     "text": [
      "       62 10000000000.0         0.248          6.56622e+05\n"
     ]
    },
    {
     "name": "stderr",
     "output_type": "stream",
     "text": [
      "\n",
      "WARNING: forward_project. Imaging modality unknown for either the image or the projection data or both.\n",
      "Going ahead anyway.\n",
      "\n",
      "WARNING: forward_project. Imaging modality unknown for either the image or the projection data or both.\n",
      "Going ahead anyway.\n"
     ]
    },
    {
     "name": "stdout",
     "output_type": "stream",
     "text": [
      "       63 10000000000.0         0.248          6.56611e+05\n"
     ]
    },
    {
     "name": "stderr",
     "output_type": "stream",
     "text": [
      "\n",
      "WARNING: forward_project. Imaging modality unknown for either the image or the projection data or both.\n",
      "Going ahead anyway.\n",
      "\n",
      "WARNING: forward_project. Imaging modality unknown for either the image or the projection data or both.\n",
      "Going ahead anyway.\n"
     ]
    },
    {
     "name": "stdout",
     "output_type": "stream",
     "text": [
      "       64 10000000000.0         0.248          6.56600e+05\n"
     ]
    },
    {
     "name": "stderr",
     "output_type": "stream",
     "text": [
      "\n",
      "WARNING: forward_project. Imaging modality unknown for either the image or the projection data or both.\n",
      "Going ahead anyway.\n",
      "\n",
      "WARNING: forward_project. Imaging modality unknown for either the image or the projection data or both.\n",
      "Going ahead anyway.\n"
     ]
    },
    {
     "name": "stdout",
     "output_type": "stream",
     "text": [
      "       65 10000000000.0         0.247          6.56589e+05\n"
     ]
    },
    {
     "name": "stderr",
     "output_type": "stream",
     "text": [
      "\n",
      "WARNING: forward_project. Imaging modality unknown for either the image or the projection data or both.\n",
      "Going ahead anyway.\n",
      "\n",
      "WARNING: forward_project. Imaging modality unknown for either the image or the projection data or both.\n",
      "Going ahead anyway.\n"
     ]
    },
    {
     "name": "stdout",
     "output_type": "stream",
     "text": [
      "       66 10000000000.0         0.248          6.56579e+05\n"
     ]
    },
    {
     "name": "stderr",
     "output_type": "stream",
     "text": [
      "\n",
      "WARNING: forward_project. Imaging modality unknown for either the image or the projection data or both.\n",
      "Going ahead anyway.\n",
      "\n",
      "WARNING: forward_project. Imaging modality unknown for either the image or the projection data or both.\n",
      "Going ahead anyway.\n"
     ]
    },
    {
     "name": "stdout",
     "output_type": "stream",
     "text": [
      "       67 10000000000.0         0.248          6.56569e+05\n"
     ]
    },
    {
     "name": "stderr",
     "output_type": "stream",
     "text": [
      "\n",
      "WARNING: forward_project. Imaging modality unknown for either the image or the projection data or both.\n",
      "Going ahead anyway.\n",
      "\n",
      "WARNING: forward_project. Imaging modality unknown for either the image or the projection data or both.\n",
      "Going ahead anyway.\n"
     ]
    },
    {
     "name": "stdout",
     "output_type": "stream",
     "text": [
      "       68 10000000000.0         0.248          6.56559e+05\n"
     ]
    },
    {
     "name": "stderr",
     "output_type": "stream",
     "text": [
      "\n",
      "WARNING: forward_project. Imaging modality unknown for either the image or the projection data or both.\n",
      "Going ahead anyway.\n",
      "\n",
      "WARNING: forward_project. Imaging modality unknown for either the image or the projection data or both.\n",
      "Going ahead anyway.\n"
     ]
    },
    {
     "name": "stdout",
     "output_type": "stream",
     "text": [
      "       69 10000000000.0         0.248          6.56550e+05\n"
     ]
    },
    {
     "name": "stderr",
     "output_type": "stream",
     "text": [
      "\n",
      "WARNING: forward_project. Imaging modality unknown for either the image or the projection data or both.\n",
      "Going ahead anyway.\n",
      "\n",
      "WARNING: forward_project. Imaging modality unknown for either the image or the projection data or both.\n",
      "Going ahead anyway.\n"
     ]
    },
    {
     "name": "stdout",
     "output_type": "stream",
     "text": [
      "       70 10000000000.0         0.248          6.56542e+05\n"
     ]
    },
    {
     "name": "stderr",
     "output_type": "stream",
     "text": [
      "\n",
      "WARNING: forward_project. Imaging modality unknown for either the image or the projection data or both.\n",
      "Going ahead anyway.\n",
      "\n",
      "WARNING: forward_project. Imaging modality unknown for either the image or the projection data or both.\n",
      "Going ahead anyway.\n"
     ]
    },
    {
     "name": "stdout",
     "output_type": "stream",
     "text": [
      "       71 10000000000.0         0.248          6.56533e+05\n"
     ]
    },
    {
     "name": "stderr",
     "output_type": "stream",
     "text": [
      "\n",
      "WARNING: forward_project. Imaging modality unknown for either the image or the projection data or both.\n",
      "Going ahead anyway.\n",
      "\n",
      "WARNING: forward_project. Imaging modality unknown for either the image or the projection data or both.\n",
      "Going ahead anyway.\n"
     ]
    },
    {
     "name": "stdout",
     "output_type": "stream",
     "text": [
      "       72 10000000000.0         0.248          6.56525e+05\n"
     ]
    },
    {
     "name": "stderr",
     "output_type": "stream",
     "text": [
      "\n",
      "WARNING: forward_project. Imaging modality unknown for either the image or the projection data or both.\n",
      "Going ahead anyway.\n",
      "\n",
      "WARNING: forward_project. Imaging modality unknown for either the image or the projection data or both.\n",
      "Going ahead anyway.\n"
     ]
    },
    {
     "name": "stdout",
     "output_type": "stream",
     "text": [
      "       73 10000000000.0         0.248          6.56517e+05\n"
     ]
    },
    {
     "name": "stderr",
     "output_type": "stream",
     "text": [
      "\n",
      "WARNING: forward_project. Imaging modality unknown for either the image or the projection data or both.\n",
      "Going ahead anyway.\n",
      "\n",
      "WARNING: forward_project. Imaging modality unknown for either the image or the projection data or both.\n",
      "Going ahead anyway.\n"
     ]
    },
    {
     "name": "stdout",
     "output_type": "stream",
     "text": [
      "       74 10000000000.0         0.249          6.56510e+05\n"
     ]
    },
    {
     "name": "stderr",
     "output_type": "stream",
     "text": [
      "\n",
      "WARNING: forward_project. Imaging modality unknown for either the image or the projection data or both.\n",
      "Going ahead anyway.\n",
      "\n",
      "WARNING: forward_project. Imaging modality unknown for either the image or the projection data or both.\n",
      "Going ahead anyway.\n"
     ]
    },
    {
     "name": "stdout",
     "output_type": "stream",
     "text": [
      "       75 10000000000.0         0.249          6.56503e+05\n"
     ]
    },
    {
     "name": "stderr",
     "output_type": "stream",
     "text": [
      "\n",
      "WARNING: forward_project. Imaging modality unknown for either the image or the projection data or both.\n",
      "Going ahead anyway.\n",
      "\n",
      "WARNING: forward_project. Imaging modality unknown for either the image or the projection data or both.\n",
      "Going ahead anyway.\n"
     ]
    },
    {
     "name": "stdout",
     "output_type": "stream",
     "text": [
      "       76 10000000000.0         0.249          6.56496e+05\n"
     ]
    },
    {
     "name": "stderr",
     "output_type": "stream",
     "text": [
      "\n",
      "WARNING: forward_project. Imaging modality unknown for either the image or the projection data or both.\n",
      "Going ahead anyway.\n",
      "\n",
      "WARNING: forward_project. Imaging modality unknown for either the image or the projection data or both.\n",
      "Going ahead anyway.\n"
     ]
    },
    {
     "name": "stdout",
     "output_type": "stream",
     "text": [
      "       77 10000000000.0         0.249          6.56490e+05\n"
     ]
    },
    {
     "name": "stderr",
     "output_type": "stream",
     "text": [
      "\n",
      "WARNING: forward_project. Imaging modality unknown for either the image or the projection data or both.\n",
      "Going ahead anyway.\n",
      "\n",
      "WARNING: forward_project. Imaging modality unknown for either the image or the projection data or both.\n",
      "Going ahead anyway.\n"
     ]
    },
    {
     "name": "stdout",
     "output_type": "stream",
     "text": [
      "       78 10000000000.0         0.249          6.56483e+05\n"
     ]
    },
    {
     "name": "stderr",
     "output_type": "stream",
     "text": [
      "\n",
      "WARNING: forward_project. Imaging modality unknown for either the image or the projection data or both.\n",
      "Going ahead anyway.\n",
      "\n",
      "WARNING: forward_project. Imaging modality unknown for either the image or the projection data or both.\n",
      "Going ahead anyway.\n"
     ]
    },
    {
     "name": "stdout",
     "output_type": "stream",
     "text": [
      "       79 10000000000.0         0.249          6.56477e+05\n"
     ]
    },
    {
     "name": "stderr",
     "output_type": "stream",
     "text": [
      "\n",
      "WARNING: forward_project. Imaging modality unknown for either the image or the projection data or both.\n",
      "Going ahead anyway.\n",
      "\n",
      "WARNING: forward_project. Imaging modality unknown for either the image or the projection data or both.\n",
      "Going ahead anyway.\n"
     ]
    },
    {
     "name": "stdout",
     "output_type": "stream",
     "text": [
      "       80 10000000000.0         0.249          6.56471e+05\n"
     ]
    },
    {
     "name": "stderr",
     "output_type": "stream",
     "text": [
      "\n",
      "WARNING: forward_project. Imaging modality unknown for either the image or the projection data or both.\n",
      "Going ahead anyway.\n",
      "\n",
      "WARNING: forward_project. Imaging modality unknown for either the image or the projection data or both.\n",
      "Going ahead anyway.\n"
     ]
    },
    {
     "name": "stdout",
     "output_type": "stream",
     "text": [
      "       81 10000000000.0         0.249          6.56466e+05\n"
     ]
    },
    {
     "name": "stderr",
     "output_type": "stream",
     "text": [
      "\n",
      "WARNING: forward_project. Imaging modality unknown for either the image or the projection data or both.\n",
      "Going ahead anyway.\n",
      "\n",
      "WARNING: forward_project. Imaging modality unknown for either the image or the projection data or both.\n",
      "Going ahead anyway.\n"
     ]
    },
    {
     "name": "stdout",
     "output_type": "stream",
     "text": [
      "       82 10000000000.0         0.249          6.56460e+05\n"
     ]
    },
    {
     "name": "stderr",
     "output_type": "stream",
     "text": [
      "\n",
      "WARNING: forward_project. Imaging modality unknown for either the image or the projection data or both.\n",
      "Going ahead anyway.\n",
      "\n",
      "WARNING: forward_project. Imaging modality unknown for either the image or the projection data or both.\n",
      "Going ahead anyway.\n"
     ]
    },
    {
     "name": "stdout",
     "output_type": "stream",
     "text": [
      "       83 10000000000.0         0.249          6.56455e+05\n"
     ]
    },
    {
     "name": "stderr",
     "output_type": "stream",
     "text": [
      "\n",
      "WARNING: forward_project. Imaging modality unknown for either the image or the projection data or both.\n",
      "Going ahead anyway.\n",
      "\n",
      "WARNING: forward_project. Imaging modality unknown for either the image or the projection data or both.\n",
      "Going ahead anyway.\n"
     ]
    },
    {
     "name": "stdout",
     "output_type": "stream",
     "text": [
      "       84 10000000000.0         0.249          6.56450e+05\n"
     ]
    },
    {
     "name": "stderr",
     "output_type": "stream",
     "text": [
      "\n",
      "WARNING: forward_project. Imaging modality unknown for either the image or the projection data or both.\n",
      "Going ahead anyway.\n",
      "\n",
      "WARNING: forward_project. Imaging modality unknown for either the image or the projection data or both.\n",
      "Going ahead anyway.\n"
     ]
    },
    {
     "name": "stdout",
     "output_type": "stream",
     "text": [
      "       85 10000000000.0         0.249          6.56445e+05\n"
     ]
    },
    {
     "name": "stderr",
     "output_type": "stream",
     "text": [
      "\n",
      "WARNING: forward_project. Imaging modality unknown for either the image or the projection data or both.\n",
      "Going ahead anyway.\n",
      "\n",
      "WARNING: forward_project. Imaging modality unknown for either the image or the projection data or both.\n",
      "Going ahead anyway.\n"
     ]
    },
    {
     "name": "stdout",
     "output_type": "stream",
     "text": [
      "       86 10000000000.0         0.249          6.56440e+05\n"
     ]
    },
    {
     "name": "stderr",
     "output_type": "stream",
     "text": [
      "\n",
      "WARNING: forward_project. Imaging modality unknown for either the image or the projection data or both.\n",
      "Going ahead anyway.\n",
      "\n",
      "WARNING: forward_project. Imaging modality unknown for either the image or the projection data or both.\n",
      "Going ahead anyway.\n"
     ]
    },
    {
     "name": "stdout",
     "output_type": "stream",
     "text": [
      "       87 10000000000.0         0.248          6.56436e+05\n"
     ]
    },
    {
     "name": "stderr",
     "output_type": "stream",
     "text": [
      "\n",
      "WARNING: forward_project. Imaging modality unknown for either the image or the projection data or both.\n",
      "Going ahead anyway.\n",
      "\n",
      "WARNING: forward_project. Imaging modality unknown for either the image or the projection data or both.\n",
      "Going ahead anyway.\n"
     ]
    },
    {
     "name": "stdout",
     "output_type": "stream",
     "text": [
      "       88 10000000000.0         0.248          6.56431e+05\n"
     ]
    },
    {
     "name": "stderr",
     "output_type": "stream",
     "text": [
      "\n",
      "WARNING: forward_project. Imaging modality unknown for either the image or the projection data or both.\n",
      "Going ahead anyway.\n",
      "\n",
      "WARNING: forward_project. Imaging modality unknown for either the image or the projection data or both.\n",
      "Going ahead anyway.\n"
     ]
    },
    {
     "name": "stdout",
     "output_type": "stream",
     "text": [
      "       89 10000000000.0         0.248          6.56427e+05\n"
     ]
    },
    {
     "name": "stderr",
     "output_type": "stream",
     "text": [
      "\n",
      "WARNING: forward_project. Imaging modality unknown for either the image or the projection data or both.\n",
      "Going ahead anyway.\n",
      "\n",
      "WARNING: forward_project. Imaging modality unknown for either the image or the projection data or both.\n",
      "Going ahead anyway.\n"
     ]
    },
    {
     "name": "stdout",
     "output_type": "stream",
     "text": [
      "       90 10000000000.0         0.248          6.56423e+05\n"
     ]
    },
    {
     "name": "stderr",
     "output_type": "stream",
     "text": [
      "\n",
      "WARNING: forward_project. Imaging modality unknown for either the image or the projection data or both.\n",
      "Going ahead anyway.\n",
      "\n",
      "WARNING: forward_project. Imaging modality unknown for either the image or the projection data or both.\n",
      "Going ahead anyway.\n"
     ]
    },
    {
     "name": "stdout",
     "output_type": "stream",
     "text": [
      "       91 10000000000.0         0.248          6.56419e+05\n"
     ]
    },
    {
     "name": "stderr",
     "output_type": "stream",
     "text": [
      "\n",
      "WARNING: forward_project. Imaging modality unknown for either the image or the projection data or both.\n",
      "Going ahead anyway.\n",
      "\n",
      "WARNING: forward_project. Imaging modality unknown for either the image or the projection data or both.\n",
      "Going ahead anyway.\n"
     ]
    },
    {
     "name": "stdout",
     "output_type": "stream",
     "text": [
      "       92 10000000000.0         0.248          6.56415e+05\n"
     ]
    },
    {
     "name": "stderr",
     "output_type": "stream",
     "text": [
      "\n",
      "WARNING: forward_project. Imaging modality unknown for either the image or the projection data or both.\n",
      "Going ahead anyway.\n",
      "\n",
      "WARNING: forward_project. Imaging modality unknown for either the image or the projection data or both.\n",
      "Going ahead anyway.\n"
     ]
    },
    {
     "name": "stdout",
     "output_type": "stream",
     "text": [
      "       93 10000000000.0         0.248          6.56412e+05\n"
     ]
    },
    {
     "name": "stderr",
     "output_type": "stream",
     "text": [
      "\n",
      "WARNING: forward_project. Imaging modality unknown for either the image or the projection data or both.\n",
      "Going ahead anyway.\n",
      "\n",
      "WARNING: forward_project. Imaging modality unknown for either the image or the projection data or both.\n",
      "Going ahead anyway.\n"
     ]
    },
    {
     "name": "stdout",
     "output_type": "stream",
     "text": [
      "       94 10000000000.0         0.248          6.56408e+05\n"
     ]
    },
    {
     "name": "stderr",
     "output_type": "stream",
     "text": [
      "\n",
      "WARNING: forward_project. Imaging modality unknown for either the image or the projection data or both.\n",
      "Going ahead anyway.\n",
      "\n",
      "WARNING: forward_project. Imaging modality unknown for either the image or the projection data or both.\n",
      "Going ahead anyway.\n"
     ]
    },
    {
     "name": "stdout",
     "output_type": "stream",
     "text": [
      "       95 10000000000.0         0.248          6.56405e+05\n"
     ]
    },
    {
     "name": "stderr",
     "output_type": "stream",
     "text": [
      "\n",
      "WARNING: forward_project. Imaging modality unknown for either the image or the projection data or both.\n",
      "Going ahead anyway.\n",
      "\n",
      "WARNING: forward_project. Imaging modality unknown for either the image or the projection data or both.\n",
      "Going ahead anyway.\n"
     ]
    },
    {
     "name": "stdout",
     "output_type": "stream",
     "text": [
      "       96 10000000000.0         0.248          6.56401e+05\n"
     ]
    },
    {
     "name": "stderr",
     "output_type": "stream",
     "text": [
      "\n",
      "WARNING: forward_project. Imaging modality unknown for either the image or the projection data or both.\n",
      "Going ahead anyway.\n",
      "\n",
      "WARNING: forward_project. Imaging modality unknown for either the image or the projection data or both.\n",
      "Going ahead anyway.\n"
     ]
    },
    {
     "name": "stdout",
     "output_type": "stream",
     "text": [
      "       97 10000000000.0         0.248          6.56398e+05\n"
     ]
    },
    {
     "name": "stderr",
     "output_type": "stream",
     "text": [
      "\n",
      "WARNING: forward_project. Imaging modality unknown for either the image or the projection data or both.\n",
      "Going ahead anyway.\n",
      "\n",
      "WARNING: forward_project. Imaging modality unknown for either the image or the projection data or both.\n",
      "Going ahead anyway.\n"
     ]
    },
    {
     "name": "stdout",
     "output_type": "stream",
     "text": [
      "       98 10000000000.0         0.248          6.56395e+05\n"
     ]
    },
    {
     "name": "stderr",
     "output_type": "stream",
     "text": [
      "\n",
      "WARNING: forward_project. Imaging modality unknown for either the image or the projection data or both.\n",
      "Going ahead anyway.\n",
      "\n",
      "WARNING: forward_project. Imaging modality unknown for either the image or the projection data or both.\n",
      "Going ahead anyway.\n"
     ]
    },
    {
     "name": "stdout",
     "output_type": "stream",
     "text": [
      "       99 10000000000.0         0.248          6.56392e+05\n",
      "      100 10000000000.0         0.248          6.56389e+05\n",
      "-------------------------------------------------------\n",
      "      100 10000000000.0         0.248          6.56389e+05\n",
      "Stop criterion has been reached.\n",
      "\n"
     ]
    },
    {
     "name": "stderr",
     "output_type": "stream",
     "text": [
      "\n",
      "WARNING: forward_project. Imaging modality unknown for either the image or the projection data or both.\n",
      "Going ahead anyway.\n"
     ]
    }
   ],
   "source": [
    "import sirf.STIR as pet\n",
    "import sirf\n",
    "sirf.STIR.set_verbosity(1)\n",
    "from sirf.Utilities import examples_data_path\n",
    "import os\n",
    "import sys\n",
    "from cil.optimisation.functions import KullbackLeibler, OperatorCompositionFunction, IndicatorBox\n",
    "cil_path = '/home/jovyan/Hackathon-000-Stochastic-Algorithms/cil/'\n",
    "sys.path.append(cil_path)\n",
    "from NewFISTA import ISTA\n",
    "\n",
    "data_path = os.path.join(examples_data_path('PET'), 'thorax_single_slice')\n",
    "\n",
    "image = pet.ImageData(os.path.join(data_path, 'emission.hv'))\n",
    "attn_image = pet.ImageData(os.path.join(data_path, 'attenuation.hv'))\n",
    "\n",
    "\n",
    "acq_model = pet.AcquisitionModelUsingRayTracingMatrix()\n",
    "template = pet.AcquisitionData(os.path.join(data_path, 'template_sinogram.hs'))\n",
    "acq_model.set_up(template, image)\n",
    "acquired_data = acq_model.forward(image)\n",
    "background_term = acquired_data.get_uniform_copy(acquired_data.max()/10)\n",
    "data_fit = KullbackLeibler(b=acquired_data, eta = background_term)\n",
    "initial = image.get_uniform_copy(0)\n",
    "\n",
    "\n",
    "f = OperatorCompositionFunction(data_fit,acq_model)\n",
    "\n",
    "step_size = 0.1\n",
    "ista = ISTA(initial=initial, f=f, g=IndicatorBox(lower=0),\n",
    "                            step_size=step_size, update_objective_interval=1,\n",
    "                            max_iteration=1e10, check_convergence_criterion=False)\n",
    "ista.run(100)"
   ]
  },
  {
   "cell_type": "code",
   "execution_count": 2,
   "id": "529eed3a-5584-42dd-94db-efbb9d327d30",
   "metadata": {},
   "outputs": [
    {
     "data": {
      "image/png": "[encoded data removed]",
      "text/plain": [
       "<Figure size 1080x1080 with 3 Axes>"
      ]
     },
     "metadata": {},
     "output_type": "display_data"
    },
    {
     "data": {
      "text/plain": [
       "<cil.utilities.display.show2D at 0x7f87103e4250>"
      ]
     },
     "execution_count": 2,
     "metadata": {},
     "output_type": "execute_result"
    }
   ],
   "source": [
    "from cil.utilities.display import show2D\n",
    "show2D(ista.solution)\n"
   ]
  },
  {
   "cell_type": "code",
   "execution_count": 10,
   "id": "5fb7de59-a517-4f00-a117-ddd3e356a172",
   "metadata": {},
   "outputs": [
    {
     "name": "stderr",
     "output_type": "stream",
     "text": [
      "\n",
      "WARNING: Disabling symmetries as image is rotated due to phi offset of the scanner.\n",
      "\n",
      "WARNING: Disabling symmetries as image is rotated due to phi offset of the scanner.\n",
      "\n",
      "WARNING: forward_project. Imaging modality unknown for either the image or the projection data or both.\n",
      "Going ahead anyway.\n",
      "\n",
      "WARNING: Disabling symmetries as image is rotated due to phi offset of the scanner.\n",
      "\n",
      "WARNING: Disabling symmetries as image is rotated due to phi offset of the scanner.\n",
      "\n",
      "WARNING: forward_project. Imaging modality unknown for either the image or the projection data or both.\n",
      "Going ahead anyway.\n",
      "\n",
      "WARNING: Disabling symmetries as image is rotated due to phi offset of the scanner.\n",
      "\n",
      "WARNING: Disabling symmetries as image is rotated due to phi offset of the scanner.\n",
      "\n",
      "WARNING: forward_project. Imaging modality unknown for either the image or the projection data or both.\n",
      "Going ahead anyway.\n",
      "\n",
      "WARNING: Disabling symmetries as image is rotated due to phi offset of the scanner.\n",
      "\n",
      "WARNING: Disabling symmetries as image is rotated due to phi offset of the scanner.\n",
      "\n",
      "WARNING: forward_project. Imaging modality unknown for either the image or the projection data or both.\n",
      "Going ahead anyway.\n",
      "\n",
      "WARNING: Disabling symmetries as image is rotated due to phi offset of the scanner.\n",
      "\n",
      "WARNING: Disabling symmetries as image is rotated due to phi offset of the scanner.\n",
      "\n",
      "WARNING: forward_project. Imaging modality unknown for either the image or the projection data or both.\n",
      "Going ahead anyway.\n",
      "\n",
      "WARNING: Disabling symmetries as image is rotated due to phi offset of the scanner.\n",
      "\n",
      "WARNING: Disabling symmetries as image is rotated due to phi offset of the scanner.\n",
      "\n",
      "WARNING: forward_project. Imaging modality unknown for either the image or the projection data or both.\n",
      "Going ahead anyway.\n",
      "\n",
      "WARNING: Disabling symmetries as image is rotated due to phi offset of the scanner.\n",
      "\n",
      "WARNING: Disabling symmetries as image is rotated due to phi offset of the scanner.\n",
      "\n",
      "WARNING: forward_project. Imaging modality unknown for either the image or the projection data or both.\n",
      "Going ahead anyway.\n",
      "\n",
      "WARNING: Disabling symmetries as image is rotated due to phi offset of the scanner.\n",
      "\n",
      "WARNING: Disabling symmetries as image is rotated due to phi offset of the scanner.\n",
      "\n",
      "WARNING: forward_project. Imaging modality unknown for either the image or the projection data or both.\n",
      "Going ahead anyway.\n",
      "\n",
      "WARNING: Disabling symmetries as image is rotated due to phi offset of the scanner.\n",
      "\n",
      "WARNING: Disabling symmetries as image is rotated due to phi offset of the scanner.\n",
      "\n",
      "WARNING: forward_project. Imaging modality unknown for either the image or the projection data or both.\n",
      "Going ahead anyway.\n",
      "\n",
      "WARNING: Disabling symmetries as image is rotated due to phi offset of the scanner.\n",
      "\n",
      "WARNING: Disabling symmetries as image is rotated due to phi offset of the scanner.\n",
      "\n",
      "WARNING: forward_project. Imaging modality unknown for either the image or the projection data or both.\n",
      "Going ahead anyway.\n"
     ]
    },
    {
     "name": "stdout",
     "output_type": "stream",
     "text": [
      "ISTA setting up\n",
      "ISTA configured\n",
      "     Iter   Max Iter     Time/Iter            Objective\n",
      "                               [s]                     \n"
     ]
    },
    {
     "name": "stderr",
     "output_type": "stream",
     "text": [
      "\n",
      "WARNING: forward_project. Imaging modality unknown for either the image or the projection data or both.\n",
      "Going ahead anyway.\n",
      "\n",
      "WARNING: forward_project. Imaging modality unknown for either the image or the projection data or both.\n",
      "Going ahead anyway.\n",
      "\n",
      "WARNING: forward_project. Imaging modality unknown for either the image or the projection data or both.\n",
      "Going ahead anyway.\n",
      "\n",
      "WARNING: forward_project. Imaging modality unknown for either the image or the projection data or both.\n",
      "Going ahead anyway.\n",
      "\n",
      "WARNING: forward_project. Imaging modality unknown for either the image or the projection data or both.\n",
      "Going ahead anyway.\n",
      "\n",
      "WARNING: forward_project. Imaging modality unknown for either the image or the projection data or both.\n",
      "Going ahead anyway.\n",
      "\n",
      "WARNING: forward_project. Imaging modality unknown for either the image or the projection data or both.\n",
      "Going ahead anyway.\n",
      "\n",
      "WARNING: forward_project. Imaging modality unknown for either the image or the projection data or both.\n",
      "Going ahead anyway.\n",
      "\n",
      "WARNING: forward_project. Imaging modality unknown for either the image or the projection data or both.\n",
      "Going ahead anyway.\n",
      "\n",
      "WARNING: forward_project. Imaging modality unknown for either the image or the projection data or both.\n",
      "Going ahead anyway.\n"
     ]
    },
    {
     "name": "stdout",
     "output_type": "stream",
     "text": [
      "        0 10000000000.0         0.000          3.46434e+06\n"
     ]
    },
    {
     "name": "stderr",
     "output_type": "stream",
     "text": [
      "\n",
      "WARNING: forward_project. Imaging modality unknown for either the image or the projection data or both.\n",
      "Going ahead anyway.\n",
      "\n",
      "WARNING: forward_project. Imaging modality unknown for either the image or the projection data or both.\n",
      "Going ahead anyway.\n",
      "\n",
      "WARNING: forward_project. Imaging modality unknown for either the image or the projection data or both.\n",
      "Going ahead anyway.\n",
      "\n",
      "WARNING: forward_project. Imaging modality unknown for either the image or the projection data or both.\n",
      "Going ahead anyway.\n",
      "\n",
      "WARNING: forward_project. Imaging modality unknown for either the image or the projection data or both.\n",
      "Going ahead anyway.\n",
      "\n",
      "WARNING: forward_project. Imaging modality unknown for either the image or the projection data or both.\n",
      "Going ahead anyway.\n",
      "\n",
      "WARNING: forward_project. Imaging modality unknown for either the image or the projection data or both.\n",
      "Going ahead anyway.\n",
      "\n",
      "WARNING: forward_project. Imaging modality unknown for either the image or the projection data or both.\n",
      "Going ahead anyway.\n",
      "\n",
      "WARNING: forward_project. Imaging modality unknown for either the image or the projection data or both.\n",
      "Going ahead anyway.\n",
      "\n",
      "WARNING: forward_project. Imaging modality unknown for either the image or the projection data or both.\n",
      "Going ahead anyway.\n",
      "\n",
      "WARNING: forward_project. Imaging modality unknown for either the image or the projection data or both.\n",
      "Going ahead anyway.\n",
      "\n",
      "WARNING: forward_project. Imaging modality unknown for either the image or the projection data or both.\n",
      "Going ahead anyway.\n",
      "\n",
      "WARNING: forward_project. Imaging modality unknown for either the image or the projection data or both.\n",
      "Going ahead anyway.\n",
      "\n",
      "WARNING: forward_project. Imaging modality unknown for either the image or the projection data or both.\n",
      "Going ahead anyway.\n",
      "\n",
      "WARNING: forward_project. Imaging modality unknown for either the image or the projection data or both.\n",
      "Going ahead anyway.\n",
      "\n",
      "WARNING: forward_project. Imaging modality unknown for either the image or the projection data or both.\n",
      "Going ahead anyway.\n",
      "\n",
      "WARNING: forward_project. Imaging modality unknown for either the image or the projection data or both.\n",
      "Going ahead anyway.\n",
      "\n",
      "WARNING: forward_project. Imaging modality unknown for either the image or the projection data or both.\n",
      "Going ahead anyway.\n",
      "\n",
      "WARNING: forward_project. Imaging modality unknown for either the image or the projection data or both.\n",
      "Going ahead anyway.\n",
      "\n",
      "WARNING: forward_project. Imaging modality unknown for either the image or the projection data or both.\n",
      "Going ahead anyway.\n",
      "\n",
      "WARNING: forward_project. Imaging modality unknown for either the image or the projection data or both.\n",
      "Going ahead anyway.\n",
      "\n",
      "WARNING: forward_project. Imaging modality unknown for either the image or the projection data or both.\n",
      "Going ahead anyway.\n",
      "\n",
      "WARNING: forward_project. Imaging modality unknown for either the image or the projection data or both.\n",
      "Going ahead anyway.\n",
      "\n",
      "WARNING: forward_project. Imaging modality unknown for either the image or the projection data or both.\n",
      "Going ahead anyway.\n",
      "\n",
      "WARNING: forward_project. Imaging modality unknown for either the image or the projection data or both.\n",
      "Going ahead anyway.\n",
      "\n",
      "WARNING: forward_project. Imaging modality unknown for either the image or the projection data or both.\n",
      "Going ahead anyway.\n",
      "\n",
      "WARNING: forward_project. Imaging modality unknown for either the image or the projection data or both.\n",
      "Going ahead anyway.\n",
      "\n",
      "WARNING: forward_project. Imaging modality unknown for either the image or the projection data or both.\n",
      "Going ahead anyway.\n",
      "\n",
      "WARNING: forward_project. Imaging modality unknown for either the image or the projection data or both.\n",
      "Going ahead anyway.\n",
      "\n",
      "WARNING: forward_project. Imaging modality unknown for either the image or the projection data or both.\n",
      "Going ahead anyway.\n",
      "\n",
      "WARNING: forward_project. Imaging modality unknown for either the image or the projection data or both.\n",
      "Going ahead anyway.\n",
      "\n",
      "WARNING: forward_project. Imaging modality unknown for either the image or the projection data or both.\n",
      "Going ahead anyway.\n",
      "\n",
      "WARNING: forward_project. Imaging modality unknown for either the image or the projection data or both.\n",
      "Going ahead anyway.\n",
      "\n",
      "WARNING: forward_project. Imaging modality unknown for either the image or the projection data or both.\n",
      "Going ahead anyway.\n",
      "\n",
      "WARNING: forward_project. Imaging modality unknown for either the image or the projection data or both.\n",
      "Going ahead anyway.\n",
      "\n",
      "WARNING: forward_project. Imaging modality unknown for either the image or the projection data or both.\n",
      "Going ahead anyway.\n",
      "\n",
      "WARNING: forward_project. Imaging modality unknown for either the image or the projection data or both.\n",
      "Going ahead anyway.\n",
      "\n",
      "WARNING: forward_project. Imaging modality unknown for either the image or the projection data or both.\n",
      "Going ahead anyway.\n",
      "\n",
      "WARNING: forward_project. Imaging modality unknown for either the image or the projection data or both.\n",
      "Going ahead anyway.\n",
      "\n",
      "WARNING: forward_project. Imaging modality unknown for either the image or the projection data or both.\n",
      "Going ahead anyway.\n",
      "\n",
      "WARNING: forward_project. Imaging modality unknown for either the image or the projection data or both.\n",
      "Going ahead anyway.\n",
      "\n",
      "WARNING: forward_project. Imaging modality unknown for either the image or the projection data or both.\n",
      "Going ahead anyway.\n",
      "\n",
      "WARNING: forward_project. Imaging modality unknown for either the image or the projection data or both.\n",
      "Going ahead anyway.\n",
      "\n",
      "WARNING: forward_project. Imaging modality unknown for either the image or the projection data or both.\n",
      "Going ahead anyway.\n",
      "\n",
      "WARNING: forward_project. Imaging modality unknown for either the image or the projection data or both.\n",
      "Going ahead anyway.\n",
      "\n",
      "WARNING: forward_project. Imaging modality unknown for either the image or the projection data or both.\n",
      "Going ahead anyway.\n",
      "\n",
      "WARNING: forward_project. Imaging modality unknown for either the image or the projection data or both.\n",
      "Going ahead anyway.\n",
      "\n",
      "WARNING: forward_project. Imaging modality unknown for either the image or the projection data or both.\n",
      "Going ahead anyway.\n",
      "\n",
      "WARNING: forward_project. Imaging modality unknown for either the image or the projection data or both.\n",
      "Going ahead anyway.\n",
      "\n",
      "WARNING: forward_project. Imaging modality unknown for either the image or the projection data or both.\n",
      "Going ahead anyway.\n",
      "\n",
      "WARNING: forward_project. Imaging modality unknown for either the image or the projection data or both.\n",
      "Going ahead anyway.\n",
      "\n",
      "WARNING: forward_project. Imaging modality unknown for either the image or the projection data or both.\n",
      "Going ahead anyway.\n",
      "\n",
      "WARNING: forward_project. Imaging modality unknown for either the image or the projection data or both.\n",
      "Going ahead anyway.\n",
      "\n",
      "WARNING: forward_project. Imaging modality unknown for either the image or the projection data or both.\n",
      "Going ahead anyway.\n",
      "\n",
      "WARNING: forward_project. Imaging modality unknown for either the image or the projection data or both.\n",
      "Going ahead anyway.\n",
      "\n",
      "WARNING: forward_project. Imaging modality unknown for either the image or the projection data or both.\n",
      "Going ahead anyway.\n",
      "\n",
      "WARNING: forward_project. Imaging modality unknown for either the image or the projection data or both.\n",
      "Going ahead anyway.\n",
      "\n",
      "WARNING: forward_project. Imaging modality unknown for either the image or the projection data or both.\n",
      "Going ahead anyway.\n",
      "\n",
      "WARNING: forward_project. Imaging modality unknown for either the image or the projection data or both.\n",
      "Going ahead anyway.\n",
      "\n",
      "WARNING: forward_project. Imaging modality unknown for either the image or the projection data or both.\n",
      "Going ahead anyway.\n",
      "\n",
      "WARNING: forward_project. Imaging modality unknown for either the image or the projection data or both.\n",
      "Going ahead anyway.\n",
      "\n",
      "WARNING: forward_project. Imaging modality unknown for either the image or the projection data or both.\n",
      "Going ahead anyway.\n",
      "\n",
      "WARNING: forward_project. Imaging modality unknown for either the image or the projection data or both.\n",
      "Going ahead anyway.\n",
      "\n",
      "WARNING: forward_project. Imaging modality unknown for either the image or the projection data or both.\n",
      "Going ahead anyway.\n",
      "\n",
      "WARNING: forward_project. Imaging modality unknown for either the image or the projection data or both.\n",
      "Going ahead anyway.\n",
      "\n",
      "WARNING: forward_project. Imaging modality unknown for either the image or the projection data or both.\n",
      "Going ahead anyway.\n",
      "\n",
      "WARNING: forward_project. Imaging modality unknown for either the image or the projection data or both.\n",
      "Going ahead anyway.\n",
      "\n",
      "WARNING: forward_project. Imaging modality unknown for either the image or the projection data or both.\n",
      "Going ahead anyway.\n",
      "\n",
      "WARNING: forward_project. Imaging modality unknown for either the image or the projection data or both.\n",
      "Going ahead anyway.\n",
      "\n",
      "WARNING: forward_project. Imaging modality unknown for either the image or the projection data or both.\n",
      "Going ahead anyway.\n",
      "\n",
      "WARNING: forward_project. Imaging modality unknown for either the image or the projection data or both.\n",
      "Going ahead anyway.\n",
      "\n",
      "WARNING: forward_project. Imaging modality unknown for either the image or the projection data or both.\n",
      "Going ahead anyway.\n",
      "\n",
      "WARNING: forward_project. Imaging modality unknown for either the image or the projection data or both.\n",
      "Going ahead anyway.\n",
      "\n",
      "WARNING: forward_project. Imaging modality unknown for either the image or the projection data or both.\n",
      "Going ahead anyway.\n",
      "\n",
      "WARNING: forward_project. Imaging modality unknown for either the image or the projection data or both.\n",
      "Going ahead anyway.\n",
      "\n",
      "WARNING: forward_project. Imaging modality unknown for either the image or the projection data or both.\n",
      "Going ahead anyway.\n",
      "\n",
      "WARNING: forward_project. Imaging modality unknown for either the image or the projection data or both.\n",
      "Going ahead anyway.\n",
      "\n",
      "WARNING: forward_project. Imaging modality unknown for either the image or the projection data or both.\n",
      "Going ahead anyway.\n",
      "\n",
      "WARNING: forward_project. Imaging modality unknown for either the image or the projection data or both.\n",
      "Going ahead anyway.\n",
      "\n",
      "WARNING: forward_project. Imaging modality unknown for either the image or the projection data or both.\n",
      "Going ahead anyway.\n",
      "\n",
      "WARNING: forward_project. Imaging modality unknown for either the image or the projection data or both.\n",
      "Going ahead anyway.\n",
      "\n",
      "WARNING: forward_project. Imaging modality unknown for either the image or the projection data or both.\n",
      "Going ahead anyway.\n",
      "\n",
      "WARNING: forward_project. Imaging modality unknown for either the image or the projection data or both.\n",
      "Going ahead anyway.\n",
      "\n",
      "WARNING: forward_project. Imaging modality unknown for either the image or the projection data or both.\n",
      "Going ahead anyway.\n",
      "\n",
      "WARNING: forward_project. Imaging modality unknown for either the image or the projection data or both.\n",
      "Going ahead anyway.\n",
      "\n",
      "WARNING: forward_project. Imaging modality unknown for either the image or the projection data or both.\n",
      "Going ahead anyway.\n",
      "\n",
      "WARNING: forward_project. Imaging modality unknown for either the image or the projection data or both.\n",
      "Going ahead anyway.\n",
      "\n",
      "WARNING: forward_project. Imaging modality unknown for either the image or the projection data or both.\n",
      "Going ahead anyway.\n",
      "\n",
      "WARNING: forward_project. Imaging modality unknown for either the image or the projection data or both.\n",
      "Going ahead anyway.\n",
      "\n",
      "WARNING: forward_project. Imaging modality unknown for either the image or the projection data or both.\n",
      "Going ahead anyway.\n",
      "\n",
      "WARNING: forward_project. Imaging modality unknown for either the image or the projection data or both.\n",
      "Going ahead anyway.\n",
      "\n",
      "WARNING: forward_project. Imaging modality unknown for either the image or the projection data or both.\n",
      "Going ahead anyway.\n",
      "\n",
      "WARNING: forward_project. Imaging modality unknown for either the image or the projection data or both.\n",
      "Going ahead anyway.\n",
      "\n",
      "WARNING: forward_project. Imaging modality unknown for either the image or the projection data or both.\n",
      "Going ahead anyway.\n",
      "\n",
      "WARNING: forward_project. Imaging modality unknown for either the image or the projection data or both.\n",
      "Going ahead anyway.\n",
      "\n",
      "WARNING: forward_project. Imaging modality unknown for either the image or the projection data or both.\n",
      "Going ahead anyway.\n",
      "\n",
      "WARNING: forward_project. Imaging modality unknown for either the image or the projection data or both.\n",
      "Going ahead anyway.\n",
      "\n",
      "WARNING: forward_project. Imaging modality unknown for either the image or the projection data or both.\n",
      "Going ahead anyway.\n",
      "\n",
      "WARNING: forward_project. Imaging modality unknown for either the image or the projection data or both.\n",
      "Going ahead anyway.\n",
      "\n",
      "WARNING: forward_project. Imaging modality unknown for either the image or the projection data or both.\n",
      "Going ahead anyway.\n",
      "\n",
      "WARNING: forward_project. Imaging modality unknown for either the image or the projection data or both.\n",
      "Going ahead anyway.\n",
      "\n",
      "WARNING: forward_project. Imaging modality unknown for either the image or the projection data or both.\n",
      "Going ahead anyway.\n",
      "\n",
      "WARNING: forward_project. Imaging modality unknown for either the image or the projection data or both.\n",
      "Going ahead anyway.\n",
      "\n",
      "WARNING: forward_project. Imaging modality unknown for either the image or the projection data or both.\n",
      "Going ahead anyway.\n",
      "\n",
      "WARNING: forward_project. Imaging modality unknown for either the image or the projection data or both.\n",
      "Going ahead anyway.\n",
      "\n",
      "WARNING: forward_project. Imaging modality unknown for either the image or the projection data or both.\n",
      "Going ahead anyway.\n",
      "\n",
      "WARNING: forward_project. Imaging modality unknown for either the image or the projection data or both.\n",
      "Going ahead anyway.\n",
      "\n",
      "WARNING: forward_project. Imaging modality unknown for either the image or the projection data or both.\n",
      "Going ahead anyway.\n",
      "\n",
      "WARNING: forward_project. Imaging modality unknown for either the image or the projection data or both.\n",
      "Going ahead anyway.\n",
      "\n",
      "WARNING: forward_project. Imaging modality unknown for either the image or the projection data or both.\n",
      "Going ahead anyway.\n"
     ]
    },
    {
     "name": "stdout",
     "output_type": "stream",
     "text": [
      "       10 10000000000.0         1.473          3.46434e+06\n"
     ]
    },
    {
     "name": "stderr",
     "output_type": "stream",
     "text": [
      "\n",
      "WARNING: forward_project. Imaging modality unknown for either the image or the projection data or both.\n",
      "Going ahead anyway.\n",
      "\n",
      "WARNING: forward_project. Imaging modality unknown for either the image or the projection data or both.\n",
      "Going ahead anyway.\n",
      "\n",
      "WARNING: forward_project. Imaging modality unknown for either the image or the projection data or both.\n",
      "Going ahead anyway.\n",
      "\n",
      "WARNING: forward_project. Imaging modality unknown for either the image or the projection data or both.\n",
      "Going ahead anyway.\n",
      "\n",
      "WARNING: forward_project. Imaging modality unknown for either the image or the projection data or both.\n",
      "Going ahead anyway.\n",
      "\n",
      "WARNING: forward_project. Imaging modality unknown for either the image or the projection data or both.\n",
      "Going ahead anyway.\n",
      "\n",
      "WARNING: forward_project. Imaging modality unknown for either the image or the projection data or both.\n",
      "Going ahead anyway.\n",
      "\n",
      "WARNING: forward_project. Imaging modality unknown for either the image or the projection data or both.\n",
      "Going ahead anyway.\n",
      "\n",
      "WARNING: forward_project. Imaging modality unknown for either the image or the projection data or both.\n",
      "Going ahead anyway.\n",
      "\n",
      "WARNING: forward_project. Imaging modality unknown for either the image or the projection data or both.\n",
      "Going ahead anyway.\n",
      "\n",
      "WARNING: forward_project. Imaging modality unknown for either the image or the projection data or both.\n",
      "Going ahead anyway.\n",
      "\n",
      "WARNING: forward_project. Imaging modality unknown for either the image or the projection data or both.\n",
      "Going ahead anyway.\n",
      "\n",
      "WARNING: forward_project. Imaging modality unknown for either the image or the projection data or both.\n",
      "Going ahead anyway.\n",
      "\n",
      "WARNING: forward_project. Imaging modality unknown for either the image or the projection data or both.\n",
      "Going ahead anyway.\n",
      "\n",
      "WARNING: forward_project. Imaging modality unknown for either the image or the projection data or both.\n",
      "Going ahead anyway.\n",
      "\n",
      "WARNING: forward_project. Imaging modality unknown for either the image or the projection data or both.\n",
      "Going ahead anyway.\n",
      "\n",
      "WARNING: forward_project. Imaging modality unknown for either the image or the projection data or both.\n",
      "Going ahead anyway.\n",
      "\n",
      "WARNING: forward_project. Imaging modality unknown for either the image or the projection data or both.\n",
      "Going ahead anyway.\n",
      "\n",
      "WARNING: forward_project. Imaging modality unknown for either the image or the projection data or both.\n",
      "Going ahead anyway.\n",
      "\n",
      "WARNING: forward_project. Imaging modality unknown for either the image or the projection data or both.\n",
      "Going ahead anyway.\n",
      "\n",
      "WARNING: forward_project. Imaging modality unknown for either the image or the projection data or both.\n",
      "Going ahead anyway.\n",
      "\n",
      "WARNING: forward_project. Imaging modality unknown for either the image or the projection data or both.\n",
      "Going ahead anyway.\n",
      "\n",
      "WARNING: forward_project. Imaging modality unknown for either the image or the projection data or both.\n",
      "Going ahead anyway.\n",
      "\n",
      "WARNING: forward_project. Imaging modality unknown for either the image or the projection data or both.\n",
      "Going ahead anyway.\n",
      "\n",
      "WARNING: forward_project. Imaging modality unknown for either the image or the projection data or both.\n",
      "Going ahead anyway.\n",
      "\n",
      "WARNING: forward_project. Imaging modality unknown for either the image or the projection data or both.\n",
      "Going ahead anyway.\n",
      "\n",
      "WARNING: forward_project. Imaging modality unknown for either the image or the projection data or both.\n",
      "Going ahead anyway.\n",
      "\n",
      "WARNING: forward_project. Imaging modality unknown for either the image or the projection data or both.\n",
      "Going ahead anyway.\n",
      "\n",
      "WARNING: forward_project. Imaging modality unknown for either the image or the projection data or both.\n",
      "Going ahead anyway.\n",
      "\n",
      "WARNING: forward_project. Imaging modality unknown for either the image or the projection data or both.\n",
      "Going ahead anyway.\n",
      "\n",
      "WARNING: forward_project. Imaging modality unknown for either the image or the projection data or both.\n",
      "Going ahead anyway.\n",
      "\n",
      "WARNING: forward_project. Imaging modality unknown for either the image or the projection data or both.\n",
      "Going ahead anyway.\n",
      "\n",
      "WARNING: forward_project. Imaging modality unknown for either the image or the projection data or both.\n",
      "Going ahead anyway.\n",
      "\n",
      "WARNING: forward_project. Imaging modality unknown for either the image or the projection data or both.\n",
      "Going ahead anyway.\n",
      "\n",
      "WARNING: forward_project. Imaging modality unknown for either the image or the projection data or both.\n",
      "Going ahead anyway.\n",
      "\n",
      "WARNING: forward_project. Imaging modality unknown for either the image or the projection data or both.\n",
      "Going ahead anyway.\n",
      "\n",
      "WARNING: forward_project. Imaging modality unknown for either the image or the projection data or both.\n",
      "Going ahead anyway.\n",
      "\n",
      "WARNING: forward_project. Imaging modality unknown for either the image or the projection data or both.\n",
      "Going ahead anyway.\n",
      "\n",
      "WARNING: forward_project. Imaging modality unknown for either the image or the projection data or both.\n",
      "Going ahead anyway.\n",
      "\n",
      "WARNING: forward_project. Imaging modality unknown for either the image or the projection data or both.\n",
      "Going ahead anyway.\n",
      "\n",
      "WARNING: forward_project. Imaging modality unknown for either the image or the projection data or both.\n",
      "Going ahead anyway.\n",
      "\n",
      "WARNING: forward_project. Imaging modality unknown for either the image or the projection data or both.\n",
      "Going ahead anyway.\n",
      "\n",
      "WARNING: forward_project. Imaging modality unknown for either the image or the projection data or both.\n",
      "Going ahead anyway.\n",
      "\n",
      "WARNING: forward_project. Imaging modality unknown for either the image or the projection data or both.\n",
      "Going ahead anyway.\n",
      "\n",
      "WARNING: forward_project. Imaging modality unknown for either the image or the projection data or both.\n",
      "Going ahead anyway.\n",
      "\n",
      "WARNING: forward_project. Imaging modality unknown for either the image or the projection data or both.\n",
      "Going ahead anyway.\n",
      "\n",
      "WARNING: forward_project. Imaging modality unknown for either the image or the projection data or both.\n",
      "Going ahead anyway.\n",
      "\n",
      "WARNING: forward_project. Imaging modality unknown for either the image or the projection data or both.\n",
      "Going ahead anyway.\n",
      "\n",
      "WARNING: forward_project. Imaging modality unknown for either the image or the projection data or both.\n",
      "Going ahead anyway.\n",
      "\n",
      "WARNING: forward_project. Imaging modality unknown for either the image or the projection data or both.\n",
      "Going ahead anyway.\n",
      "\n",
      "WARNING: forward_project. Imaging modality unknown for either the image or the projection data or both.\n",
      "Going ahead anyway.\n",
      "\n",
      "WARNING: forward_project. Imaging modality unknown for either the image or the projection data or both.\n",
      "Going ahead anyway.\n",
      "\n",
      "WARNING: forward_project. Imaging modality unknown for either the image or the projection data or both.\n",
      "Going ahead anyway.\n",
      "\n",
      "WARNING: forward_project. Imaging modality unknown for either the image or the projection data or both.\n",
      "Going ahead anyway.\n",
      "\n",
      "WARNING: forward_project. Imaging modality unknown for either the image or the projection data or both.\n",
      "Going ahead anyway.\n",
      "\n",
      "WARNING: forward_project. Imaging modality unknown for either the image or the projection data or both.\n",
      "Going ahead anyway.\n",
      "\n",
      "WARNING: forward_project. Imaging modality unknown for either the image or the projection data or both.\n",
      "Going ahead anyway.\n",
      "\n",
      "WARNING: forward_project. Imaging modality unknown for either the image or the projection data or both.\n",
      "Going ahead anyway.\n",
      "\n",
      "WARNING: forward_project. Imaging modality unknown for either the image or the projection data or both.\n",
      "Going ahead anyway.\n",
      "\n",
      "WARNING: forward_project. Imaging modality unknown for either the image or the projection data or both.\n",
      "Going ahead anyway.\n",
      "\n",
      "WARNING: forward_project. Imaging modality unknown for either the image or the projection data or both.\n",
      "Going ahead anyway.\n",
      "\n",
      "WARNING: forward_project. Imaging modality unknown for either the image or the projection data or both.\n",
      "Going ahead anyway.\n",
      "\n",
      "WARNING: forward_project. Imaging modality unknown for either the image or the projection data or both.\n",
      "Going ahead anyway.\n",
      "\n",
      "WARNING: forward_project. Imaging modality unknown for either the image or the projection data or both.\n",
      "Going ahead anyway.\n",
      "\n",
      "WARNING: forward_project. Imaging modality unknown for either the image or the projection data or both.\n",
      "Going ahead anyway.\n",
      "\n",
      "WARNING: forward_project. Imaging modality unknown for either the image or the projection data or both.\n",
      "Going ahead anyway.\n",
      "\n",
      "WARNING: forward_project. Imaging modality unknown for either the image or the projection data or both.\n",
      "Going ahead anyway.\n",
      "\n",
      "WARNING: forward_project. Imaging modality unknown for either the image or the projection data or both.\n",
      "Going ahead anyway.\n",
      "\n",
      "WARNING: forward_project. Imaging modality unknown for either the image or the projection data or both.\n",
      "Going ahead anyway.\n",
      "\n",
      "WARNING: forward_project. Imaging modality unknown for either the image or the projection data or both.\n",
      "Going ahead anyway.\n",
      "\n",
      "WARNING: forward_project. Imaging modality unknown for either the image or the projection data or both.\n",
      "Going ahead anyway.\n",
      "\n",
      "WARNING: forward_project. Imaging modality unknown for either the image or the projection data or both.\n",
      "Going ahead anyway.\n",
      "\n",
      "WARNING: forward_project. Imaging modality unknown for either the image or the projection data or both.\n",
      "Going ahead anyway.\n",
      "\n",
      "WARNING: forward_project. Imaging modality unknown for either the image or the projection data or both.\n",
      "Going ahead anyway.\n",
      "\n",
      "WARNING: forward_project. Imaging modality unknown for either the image or the projection data or both.\n",
      "Going ahead anyway.\n",
      "\n",
      "WARNING: forward_project. Imaging modality unknown for either the image or the projection data or both.\n",
      "Going ahead anyway.\n",
      "\n",
      "WARNING: forward_project. Imaging modality unknown for either the image or the projection data or both.\n",
      "Going ahead anyway.\n",
      "\n",
      "WARNING: forward_project. Imaging modality unknown for either the image or the projection data or both.\n",
      "Going ahead anyway.\n",
      "\n",
      "WARNING: forward_project. Imaging modality unknown for either the image or the projection data or both.\n",
      "Going ahead anyway.\n",
      "\n",
      "WARNING: forward_project. Imaging modality unknown for either the image or the projection data or both.\n",
      "Going ahead anyway.\n",
      "\n",
      "WARNING: forward_project. Imaging modality unknown for either the image or the projection data or both.\n",
      "Going ahead anyway.\n",
      "\n",
      "WARNING: forward_project. Imaging modality unknown for either the image or the projection data or both.\n",
      "Going ahead anyway.\n",
      "\n",
      "WARNING: forward_project. Imaging modality unknown for either the image or the projection data or both.\n",
      "Going ahead anyway.\n",
      "\n",
      "WARNING: forward_project. Imaging modality unknown for either the image or the projection data or both.\n",
      "Going ahead anyway.\n",
      "\n",
      "WARNING: forward_project. Imaging modality unknown for either the image or the projection data or both.\n",
      "Going ahead anyway.\n",
      "\n",
      "WARNING: forward_project. Imaging modality unknown for either the image or the projection data or both.\n",
      "Going ahead anyway.\n",
      "\n",
      "WARNING: forward_project. Imaging modality unknown for either the image or the projection data or both.\n",
      "Going ahead anyway.\n",
      "\n",
      "WARNING: forward_project. Imaging modality unknown for either the image or the projection data or both.\n",
      "Going ahead anyway.\n",
      "\n",
      "WARNING: forward_project. Imaging modality unknown for either the image or the projection data or both.\n",
      "Going ahead anyway.\n",
      "\n",
      "WARNING: forward_project. Imaging modality unknown for either the image or the projection data or both.\n",
      "Going ahead anyway.\n",
      "\n",
      "WARNING: forward_project. Imaging modality unknown for either the image or the projection data or both.\n",
      "Going ahead anyway.\n",
      "\n",
      "WARNING: forward_project. Imaging modality unknown for either the image or the projection data or both.\n",
      "Going ahead anyway.\n",
      "\n",
      "WARNING: forward_project. Imaging modality unknown for either the image or the projection data or both.\n",
      "Going ahead anyway.\n",
      "\n",
      "WARNING: forward_project. Imaging modality unknown for either the image or the projection data or both.\n",
      "Going ahead anyway.\n",
      "\n",
      "WARNING: forward_project. Imaging modality unknown for either the image or the projection data or both.\n",
      "Going ahead anyway.\n",
      "\n",
      "WARNING: forward_project. Imaging modality unknown for either the image or the projection data or both.\n",
      "Going ahead anyway.\n",
      "\n",
      "WARNING: forward_project. Imaging modality unknown for either the image or the projection data or both.\n",
      "Going ahead anyway.\n",
      "\n",
      "WARNING: forward_project. Imaging modality unknown for either the image or the projection data or both.\n",
      "Going ahead anyway.\n",
      "\n",
      "WARNING: forward_project. Imaging modality unknown for either the image or the projection data or both.\n",
      "Going ahead anyway.\n",
      "\n",
      "WARNING: forward_project. Imaging modality unknown for either the image or the projection data or both.\n",
      "Going ahead anyway.\n",
      "\n",
      "WARNING: forward_project. Imaging modality unknown for either the image or the projection data or both.\n",
      "Going ahead anyway.\n",
      "\n",
      "WARNING: forward_project. Imaging modality unknown for either the image or the projection data or both.\n",
      "Going ahead anyway.\n",
      "\n",
      "WARNING: forward_project. Imaging modality unknown for either the image or the projection data or both.\n",
      "Going ahead anyway.\n",
      "\n",
      "WARNING: forward_project. Imaging modality unknown for either the image or the projection data or both.\n",
      "Going ahead anyway.\n",
      "\n",
      "WARNING: forward_project. Imaging modality unknown for either the image or the projection data or both.\n",
      "Going ahead anyway.\n",
      "\n",
      "WARNING: forward_project. Imaging modality unknown for either the image or the projection data or both.\n",
      "Going ahead anyway.\n",
      "\n",
      "WARNING: forward_project. Imaging modality unknown for either the image or the projection data or both.\n",
      "Going ahead anyway.\n",
      "\n",
      "WARNING: forward_project. Imaging modality unknown for either the image or the projection data or both.\n",
      "Going ahead anyway.\n",
      "\n",
      "WARNING: forward_project. Imaging modality unknown for either the image or the projection data or both.\n",
      "Going ahead anyway.\n",
      "\n",
      "WARNING: forward_project. Imaging modality unknown for either the image or the projection data or both.\n",
      "Going ahead anyway.\n"
     ]
    },
    {
     "name": "stdout",
     "output_type": "stream",
     "text": [
      "       20 10000000000.0         1.437          3.46434e+06\n"
     ]
    },
    {
     "name": "stderr",
     "output_type": "stream",
     "text": [
      "\n",
      "WARNING: forward_project. Imaging modality unknown for either the image or the projection data or both.\n",
      "Going ahead anyway.\n",
      "\n",
      "WARNING: forward_project. Imaging modality unknown for either the image or the projection data or both.\n",
      "Going ahead anyway.\n",
      "\n",
      "WARNING: forward_project. Imaging modality unknown for either the image or the projection data or both.\n",
      "Going ahead anyway.\n",
      "\n",
      "WARNING: forward_project. Imaging modality unknown for either the image or the projection data or both.\n",
      "Going ahead anyway.\n",
      "\n",
      "WARNING: forward_project. Imaging modality unknown for either the image or the projection data or both.\n",
      "Going ahead anyway.\n",
      "\n",
      "WARNING: forward_project. Imaging modality unknown for either the image or the projection data or both.\n",
      "Going ahead anyway.\n",
      "\n",
      "WARNING: forward_project. Imaging modality unknown for either the image or the projection data or both.\n",
      "Going ahead anyway.\n",
      "\n",
      "WARNING: forward_project. Imaging modality unknown for either the image or the projection data or both.\n",
      "Going ahead anyway.\n",
      "\n",
      "WARNING: forward_project. Imaging modality unknown for either the image or the projection data or both.\n",
      "Going ahead anyway.\n",
      "\n",
      "WARNING: forward_project. Imaging modality unknown for either the image or the projection data or both.\n",
      "Going ahead anyway.\n",
      "\n",
      "WARNING: forward_project. Imaging modality unknown for either the image or the projection data or both.\n",
      "Going ahead anyway.\n",
      "\n",
      "WARNING: forward_project. Imaging modality unknown for either the image or the projection data or both.\n",
      "Going ahead anyway.\n",
      "\n",
      "WARNING: forward_project. Imaging modality unknown for either the image or the projection data or both.\n",
      "Going ahead anyway.\n",
      "\n",
      "WARNING: forward_project. Imaging modality unknown for either the image or the projection data or both.\n",
      "Going ahead anyway.\n",
      "\n",
      "WARNING: forward_project. Imaging modality unknown for either the image or the projection data or both.\n",
      "Going ahead anyway.\n",
      "\n",
      "WARNING: forward_project. Imaging modality unknown for either the image or the projection data or both.\n",
      "Going ahead anyway.\n",
      "\n",
      "WARNING: forward_project. Imaging modality unknown for either the image or the projection data or both.\n",
      "Going ahead anyway.\n",
      "\n",
      "WARNING: forward_project. Imaging modality unknown for either the image or the projection data or both.\n",
      "Going ahead anyway.\n",
      "\n",
      "WARNING: forward_project. Imaging modality unknown for either the image or the projection data or both.\n",
      "Going ahead anyway.\n",
      "\n",
      "WARNING: forward_project. Imaging modality unknown for either the image or the projection data or both.\n",
      "Going ahead anyway.\n",
      "\n",
      "WARNING: forward_project. Imaging modality unknown for either the image or the projection data or both.\n",
      "Going ahead anyway.\n",
      "\n",
      "WARNING: forward_project. Imaging modality unknown for either the image or the projection data or both.\n",
      "Going ahead anyway.\n",
      "\n",
      "WARNING: forward_project. Imaging modality unknown for either the image or the projection data or both.\n",
      "Going ahead anyway.\n",
      "\n",
      "WARNING: forward_project. Imaging modality unknown for either the image or the projection data or both.\n",
      "Going ahead anyway.\n",
      "\n",
      "WARNING: forward_project. Imaging modality unknown for either the image or the projection data or both.\n",
      "Going ahead anyway.\n",
      "\n",
      "WARNING: forward_project. Imaging modality unknown for either the image or the projection data or both.\n",
      "Going ahead anyway.\n",
      "\n",
      "WARNING: forward_project. Imaging modality unknown for either the image or the projection data or both.\n",
      "Going ahead anyway.\n",
      "\n",
      "WARNING: forward_project. Imaging modality unknown for either the image or the projection data or both.\n",
      "Going ahead anyway.\n",
      "\n",
      "WARNING: forward_project. Imaging modality unknown for either the image or the projection data or both.\n",
      "Going ahead anyway.\n",
      "\n",
      "WARNING: forward_project. Imaging modality unknown for either the image or the projection data or both.\n",
      "Going ahead anyway.\n",
      "\n",
      "WARNING: forward_project. Imaging modality unknown for either the image or the projection data or both.\n",
      "Going ahead anyway.\n",
      "\n",
      "WARNING: forward_project. Imaging modality unknown for either the image or the projection data or both.\n",
      "Going ahead anyway.\n",
      "\n",
      "WARNING: forward_project. Imaging modality unknown for either the image or the projection data or both.\n",
      "Going ahead anyway.\n",
      "\n",
      "WARNING: forward_project. Imaging modality unknown for either the image or the projection data or both.\n",
      "Going ahead anyway.\n",
      "\n",
      "WARNING: forward_project. Imaging modality unknown for either the image or the projection data or both.\n",
      "Going ahead anyway.\n",
      "\n",
      "WARNING: forward_project. Imaging modality unknown for either the image or the projection data or both.\n",
      "Going ahead anyway.\n",
      "\n",
      "WARNING: forward_project. Imaging modality unknown for either the image or the projection data or both.\n",
      "Going ahead anyway.\n",
      "\n",
      "WARNING: forward_project. Imaging modality unknown for either the image or the projection data or both.\n",
      "Going ahead anyway.\n",
      "\n",
      "WARNING: forward_project. Imaging modality unknown for either the image or the projection data or both.\n",
      "Going ahead anyway.\n",
      "\n",
      "WARNING: forward_project. Imaging modality unknown for either the image or the projection data or both.\n",
      "Going ahead anyway.\n",
      "\n",
      "WARNING: forward_project. Imaging modality unknown for either the image or the projection data or both.\n",
      "Going ahead anyway.\n",
      "\n",
      "WARNING: forward_project. Imaging modality unknown for either the image or the projection data or both.\n",
      "Going ahead anyway.\n",
      "\n",
      "WARNING: forward_project. Imaging modality unknown for either the image or the projection data or both.\n",
      "Going ahead anyway.\n",
      "\n",
      "WARNING: forward_project. Imaging modality unknown for either the image or the projection data or both.\n",
      "Going ahead anyway.\n",
      "\n",
      "WARNING: forward_project. Imaging modality unknown for either the image or the projection data or both.\n",
      "Going ahead anyway.\n",
      "\n",
      "WARNING: forward_project. Imaging modality unknown for either the image or the projection data or both.\n",
      "Going ahead anyway.\n",
      "\n",
      "WARNING: forward_project. Imaging modality unknown for either the image or the projection data or both.\n",
      "Going ahead anyway.\n",
      "\n",
      "WARNING: forward_project. Imaging modality unknown for either the image or the projection data or both.\n",
      "Going ahead anyway.\n",
      "\n",
      "WARNING: forward_project. Imaging modality unknown for either the image or the projection data or both.\n",
      "Going ahead anyway.\n",
      "\n",
      "WARNING: forward_project. Imaging modality unknown for either the image or the projection data or both.\n",
      "Going ahead anyway.\n",
      "\n",
      "WARNING: forward_project. Imaging modality unknown for either the image or the projection data or both.\n",
      "Going ahead anyway.\n",
      "\n",
      "WARNING: forward_project. Imaging modality unknown for either the image or the projection data or both.\n",
      "Going ahead anyway.\n",
      "\n",
      "WARNING: forward_project. Imaging modality unknown for either the image or the projection data or both.\n",
      "Going ahead anyway.\n",
      "\n",
      "WARNING: forward_project. Imaging modality unknown for either the image or the projection data or both.\n",
      "Going ahead anyway.\n",
      "\n",
      "WARNING: forward_project. Imaging modality unknown for either the image or the projection data or both.\n",
      "Going ahead anyway.\n",
      "\n",
      "WARNING: forward_project. Imaging modality unknown for either the image or the projection data or both.\n",
      "Going ahead anyway.\n",
      "\n",
      "WARNING: forward_project. Imaging modality unknown for either the image or the projection data or both.\n",
      "Going ahead anyway.\n",
      "\n",
      "WARNING: forward_project. Imaging modality unknown for either the image or the projection data or both.\n",
      "Going ahead anyway.\n",
      "\n",
      "WARNING: forward_project. Imaging modality unknown for either the image or the projection data or both.\n",
      "Going ahead anyway.\n",
      "\n",
      "WARNING: forward_project. Imaging modality unknown for either the image or the projection data or both.\n",
      "Going ahead anyway.\n",
      "\n",
      "WARNING: forward_project. Imaging modality unknown for either the image or the projection data or both.\n",
      "Going ahead anyway.\n",
      "\n",
      "WARNING: forward_project. Imaging modality unknown for either the image or the projection data or both.\n",
      "Going ahead anyway.\n",
      "\n",
      "WARNING: forward_project. Imaging modality unknown for either the image or the projection data or both.\n",
      "Going ahead anyway.\n",
      "\n",
      "WARNING: forward_project. Imaging modality unknown for either the image or the projection data or both.\n",
      "Going ahead anyway.\n",
      "\n",
      "WARNING: forward_project. Imaging modality unknown for either the image or the projection data or both.\n",
      "Going ahead anyway.\n",
      "\n",
      "WARNING: forward_project. Imaging modality unknown for either the image or the projection data or both.\n",
      "Going ahead anyway.\n",
      "\n",
      "WARNING: forward_project. Imaging modality unknown for either the image or the projection data or both.\n",
      "Going ahead anyway.\n",
      "\n",
      "WARNING: forward_project. Imaging modality unknown for either the image or the projection data or both.\n",
      "Going ahead anyway.\n",
      "\n",
      "WARNING: forward_project. Imaging modality unknown for either the image or the projection data or both.\n",
      "Going ahead anyway.\n",
      "\n",
      "WARNING: forward_project. Imaging modality unknown for either the image or the projection data or both.\n",
      "Going ahead anyway.\n",
      "\n",
      "WARNING: forward_project. Imaging modality unknown for either the image or the projection data or both.\n",
      "Going ahead anyway.\n",
      "\n",
      "WARNING: forward_project. Imaging modality unknown for either the image or the projection data or both.\n",
      "Going ahead anyway.\n",
      "\n",
      "WARNING: forward_project. Imaging modality unknown for either the image or the projection data or both.\n",
      "Going ahead anyway.\n",
      "\n",
      "WARNING: forward_project. Imaging modality unknown for either the image or the projection data or both.\n",
      "Going ahead anyway.\n",
      "\n",
      "WARNING: forward_project. Imaging modality unknown for either the image or the projection data or both.\n",
      "Going ahead anyway.\n",
      "\n",
      "WARNING: forward_project. Imaging modality unknown for either the image or the projection data or both.\n",
      "Going ahead anyway.\n",
      "\n",
      "WARNING: forward_project. Imaging modality unknown for either the image or the projection data or both.\n",
      "Going ahead anyway.\n",
      "\n",
      "WARNING: forward_project. Imaging modality unknown for either the image or the projection data or both.\n",
      "Going ahead anyway.\n",
      "\n",
      "WARNING: forward_project. Imaging modality unknown for either the image or the projection data or both.\n",
      "Going ahead anyway.\n",
      "\n",
      "WARNING: forward_project. Imaging modality unknown for either the image or the projection data or both.\n",
      "Going ahead anyway.\n",
      "\n",
      "WARNING: forward_project. Imaging modality unknown for either the image or the projection data or both.\n",
      "Going ahead anyway.\n",
      "\n",
      "WARNING: forward_project. Imaging modality unknown for either the image or the projection data or both.\n",
      "Going ahead anyway.\n",
      "\n",
      "WARNING: forward_project. Imaging modality unknown for either the image or the projection data or both.\n",
      "Going ahead anyway.\n",
      "\n",
      "WARNING: forward_project. Imaging modality unknown for either the image or the projection data or both.\n",
      "Going ahead anyway.\n",
      "\n",
      "WARNING: forward_project. Imaging modality unknown for either the image or the projection data or both.\n",
      "Going ahead anyway.\n",
      "\n",
      "WARNING: forward_project. Imaging modality unknown for either the image or the projection data or both.\n",
      "Going ahead anyway.\n",
      "\n",
      "WARNING: forward_project. Imaging modality unknown for either the image or the projection data or both.\n",
      "Going ahead anyway.\n",
      "\n",
      "WARNING: forward_project. Imaging modality unknown for either the image or the projection data or both.\n",
      "Going ahead anyway.\n",
      "\n",
      "WARNING: forward_project. Imaging modality unknown for either the image or the projection data or both.\n",
      "Going ahead anyway.\n",
      "\n",
      "WARNING: forward_project. Imaging modality unknown for either the image or the projection data or both.\n",
      "Going ahead anyway.\n",
      "\n",
      "WARNING: forward_project. Imaging modality unknown for either the image or the projection data or both.\n",
      "Going ahead anyway.\n",
      "\n",
      "WARNING: forward_project. Imaging modality unknown for either the image or the projection data or both.\n",
      "Going ahead anyway.\n",
      "\n",
      "WARNING: forward_project. Imaging modality unknown for either the image or the projection data or both.\n",
      "Going ahead anyway.\n",
      "\n",
      "WARNING: forward_project. Imaging modality unknown for either the image or the projection data or both.\n",
      "Going ahead anyway.\n",
      "\n",
      "WARNING: forward_project. Imaging modality unknown for either the image or the projection data or both.\n",
      "Going ahead anyway.\n",
      "\n",
      "WARNING: forward_project. Imaging modality unknown for either the image or the projection data or both.\n",
      "Going ahead anyway.\n",
      "\n",
      "WARNING: forward_project. Imaging modality unknown for either the image or the projection data or both.\n",
      "Going ahead anyway.\n",
      "\n",
      "WARNING: forward_project. Imaging modality unknown for either the image or the projection data or both.\n",
      "Going ahead anyway.\n",
      "\n",
      "WARNING: forward_project. Imaging modality unknown for either the image or the projection data or both.\n",
      "Going ahead anyway.\n",
      "\n",
      "WARNING: forward_project. Imaging modality unknown for either the image or the projection data or both.\n",
      "Going ahead anyway.\n",
      "\n",
      "WARNING: forward_project. Imaging modality unknown for either the image or the projection data or both.\n",
      "Going ahead anyway.\n",
      "\n",
      "WARNING: forward_project. Imaging modality unknown for either the image or the projection data or both.\n",
      "Going ahead anyway.\n",
      "\n",
      "WARNING: forward_project. Imaging modality unknown for either the image or the projection data or both.\n",
      "Going ahead anyway.\n",
      "\n",
      "WARNING: forward_project. Imaging modality unknown for either the image or the projection data or both.\n",
      "Going ahead anyway.\n",
      "\n",
      "WARNING: forward_project. Imaging modality unknown for either the image or the projection data or both.\n",
      "Going ahead anyway.\n",
      "\n",
      "WARNING: forward_project. Imaging modality unknown for either the image or the projection data or both.\n",
      "Going ahead anyway.\n",
      "\n",
      "WARNING: forward_project. Imaging modality unknown for either the image or the projection data or both.\n",
      "Going ahead anyway.\n",
      "\n",
      "WARNING: forward_project. Imaging modality unknown for either the image or the projection data or both.\n",
      "Going ahead anyway.\n",
      "\n",
      "WARNING: forward_project. Imaging modality unknown for either the image or the projection data or both.\n",
      "Going ahead anyway.\n",
      "\n",
      "WARNING: forward_project. Imaging modality unknown for either the image or the projection data or both.\n",
      "Going ahead anyway.\n"
     ]
    },
    {
     "name": "stdout",
     "output_type": "stream",
     "text": [
      "       30 10000000000.0         1.406          3.46434e+06\n"
     ]
    },
    {
     "name": "stderr",
     "output_type": "stream",
     "text": [
      "\n",
      "WARNING: forward_project. Imaging modality unknown for either the image or the projection data or both.\n",
      "Going ahead anyway.\n",
      "\n",
      "WARNING: forward_project. Imaging modality unknown for either the image or the projection data or both.\n",
      "Going ahead anyway.\n",
      "\n",
      "WARNING: forward_project. Imaging modality unknown for either the image or the projection data or both.\n",
      "Going ahead anyway.\n",
      "\n",
      "WARNING: forward_project. Imaging modality unknown for either the image or the projection data or both.\n",
      "Going ahead anyway.\n",
      "\n",
      "WARNING: forward_project. Imaging modality unknown for either the image or the projection data or both.\n",
      "Going ahead anyway.\n",
      "\n",
      "WARNING: forward_project. Imaging modality unknown for either the image or the projection data or both.\n",
      "Going ahead anyway.\n",
      "\n",
      "WARNING: forward_project. Imaging modality unknown for either the image or the projection data or both.\n",
      "Going ahead anyway.\n",
      "\n",
      "WARNING: forward_project. Imaging modality unknown for either the image or the projection data or both.\n",
      "Going ahead anyway.\n",
      "\n",
      "WARNING: forward_project. Imaging modality unknown for either the image or the projection data or both.\n",
      "Going ahead anyway.\n",
      "\n",
      "WARNING: forward_project. Imaging modality unknown for either the image or the projection data or both.\n",
      "Going ahead anyway.\n"
     ]
    },
    {
     "ename": "KeyboardInterrupt",
     "evalue": "",
     "output_type": "error",
     "traceback": [
      "\u001b[0;31m---------------------------------------------------------------------------\u001b[0m",
      "\u001b[0;31mKeyboardInterrupt\u001b[0m                         Traceback (most recent call last)",
      "Input \u001b[0;32mIn [10]\u001b[0m, in \u001b[0;36m<module>\u001b[0;34m\u001b[0m\n\u001b[1;32m     29\u001b[0m step_size \u001b[38;5;241m=\u001b[39m \u001b[38;5;241m0.1\u001b[39m\n\u001b[1;32m     30\u001b[0m saga \u001b[38;5;241m=\u001b[39m ISTA(initial\u001b[38;5;241m=\u001b[39minitial, f\u001b[38;5;241m=\u001b[39mf_saga, g\u001b[38;5;241m=\u001b[39mIndicatorBox(lower\u001b[38;5;241m=\u001b[39m\u001b[38;5;241m0\u001b[39m),\n\u001b[1;32m     31\u001b[0m                             step_size\u001b[38;5;241m=\u001b[39mstep_size, update_objective_interval\u001b[38;5;241m=\u001b[39mnum_subsets,\n\u001b[1;32m     32\u001b[0m                             max_iteration\u001b[38;5;241m=\u001b[39m\u001b[38;5;241m1e10\u001b[39m, check_convergence_criterion\u001b[38;5;241m=\u001b[39m\u001b[38;5;28;01mFalse\u001b[39;00m)\n\u001b[0;32m---> 33\u001b[0m \u001b[43msaga\u001b[49m\u001b[38;5;241;43m.\u001b[39;49m\u001b[43mrun\u001b[49m\u001b[43m(\u001b[49m\u001b[38;5;241;43m100\u001b[39;49m\u001b[38;5;241;43m*\u001b[39;49m\u001b[43mnum_subsets\u001b[49m\u001b[43m)\u001b[49m\n",
      "File \u001b[0;32m/opt/SIRF-SuperBuild/INSTALL/python/cil/optimisation/algorithms/Algorithm.py:269\u001b[0m, in \u001b[0;36mAlgorithm.run\u001b[0;34m(self, iterations, verbose, callback, **kwargs)\u001b[0m\n\u001b[1;32m    267\u001b[0m \u001b[38;5;28;01mfor\u001b[39;00m i \u001b[38;5;129;01min\u001b[39;00m \u001b[38;5;28mrange\u001b[39m(iterations):\n\u001b[1;32m    268\u001b[0m     \u001b[38;5;28;01mtry\u001b[39;00m:\n\u001b[0;32m--> 269\u001b[0m         \u001b[38;5;28;43mself\u001b[39;49m\u001b[38;5;241;43m.\u001b[39;49m\u001b[38;5;21;43m__next__\u001b[39;49m\u001b[43m(\u001b[49m\u001b[43m)\u001b[49m\n\u001b[1;32m    270\u001b[0m     \u001b[38;5;28;01mexcept\u001b[39;00m \u001b[38;5;167;01mStopIteration\u001b[39;00m:\n\u001b[1;32m    271\u001b[0m         \u001b[38;5;28;01mbreak\u001b[39;00m\n",
      "File \u001b[0;32m/opt/SIRF-SuperBuild/INSTALL/python/cil/optimisation/algorithms/Algorithm.py:117\u001b[0m, in \u001b[0;36mAlgorithm.__next__\u001b[0;34m(self)\u001b[0m\n\u001b[1;32m    115\u001b[0m \u001b[38;5;28;01mif\u001b[39;00m \u001b[38;5;129;01mnot\u001b[39;00m \u001b[38;5;28mself\u001b[39m\u001b[38;5;241m.\u001b[39mconfigured:\n\u001b[1;32m    116\u001b[0m     \u001b[38;5;28;01mraise\u001b[39;00m \u001b[38;5;167;01mValueError\u001b[39;00m(\u001b[38;5;124m'\u001b[39m\u001b[38;5;124mAlgorithm not configured correctly. Please run set_up.\u001b[39m\u001b[38;5;124m'\u001b[39m)\n\u001b[0;32m--> 117\u001b[0m \u001b[38;5;28;43mself\u001b[39;49m\u001b[38;5;241;43m.\u001b[39;49m\u001b[43mupdate\u001b[49m\u001b[43m(\u001b[49m\u001b[43m)\u001b[49m\n\u001b[1;32m    118\u001b[0m \u001b[38;5;28mself\u001b[39m\u001b[38;5;241m.\u001b[39mtiming\u001b[38;5;241m.\u001b[39mappend( time\u001b[38;5;241m.\u001b[39mtime() \u001b[38;5;241m-\u001b[39m time0 )\n\u001b[1;32m    119\u001b[0m \u001b[38;5;28mself\u001b[39m\u001b[38;5;241m.\u001b[39miteration \u001b[38;5;241m+\u001b[39m\u001b[38;5;241m=\u001b[39m \u001b[38;5;241m1\u001b[39m\n",
      "File \u001b[0;32m~/Hackathon-000-Stochastic-Algorithms/cil/NewFISTA.py:271\u001b[0m, in \u001b[0;36mISTA.update\u001b[0;34m(self)\u001b[0m\n\u001b[1;32m    266\u001b[0m \u001b[38;5;124mr\u001b[39m\u001b[38;5;124;03m\"\"\"Performs a single iteration of ISTA\u001b[39;00m\n\u001b[1;32m    267\u001b[0m \u001b[38;5;124;03m.. math:: x_{k+1} = \\mathrm{prox}_{\\alpha g}(x_{k} - \\alpha\\nabla f(x_{k}))\u001b[39;00m\n\u001b[1;32m    268\u001b[0m \u001b[38;5;124;03m\"\"\"\u001b[39;00m\n\u001b[1;32m    270\u001b[0m \u001b[38;5;66;03m# gradient step\u001b[39;00m\n\u001b[0;32m--> 271\u001b[0m \u001b[38;5;28;43mself\u001b[39;49m\u001b[38;5;241;43m.\u001b[39;49m\u001b[43mf\u001b[49m\u001b[38;5;241;43m.\u001b[39;49m\u001b[43mgradient\u001b[49m\u001b[43m(\u001b[49m\u001b[38;5;28;43mself\u001b[39;49m\u001b[38;5;241;43m.\u001b[39;49m\u001b[43mx_old\u001b[49m\u001b[43m,\u001b[49m\u001b[43m \u001b[49m\u001b[43mout\u001b[49m\u001b[38;5;241;43m=\u001b[39;49m\u001b[38;5;28;43mself\u001b[39;49m\u001b[38;5;241;43m.\u001b[39;49m\u001b[43mx\u001b[49m\u001b[43m)\u001b[49m\n\u001b[1;32m    272\u001b[0m \u001b[38;5;28mself\u001b[39m\u001b[38;5;241m.\u001b[39mx \u001b[38;5;241m*\u001b[39m\u001b[38;5;241m=\u001b[39m \u001b[38;5;241m-\u001b[39m\u001b[38;5;28mself\u001b[39m\u001b[38;5;241m.\u001b[39mstep_size\n\u001b[1;32m    273\u001b[0m \u001b[38;5;28mself\u001b[39m\u001b[38;5;241m.\u001b[39mx \u001b[38;5;241m+\u001b[39m\u001b[38;5;241m=\u001b[39m \u001b[38;5;28mself\u001b[39m\u001b[38;5;241m.\u001b[39mx_old\n",
      "File \u001b[0;32m/opt/SIRF-SuperBuild/INSTALL/python/cil/optimisation/functions/OperatorCompositionFunction.py:80\u001b[0m, in \u001b[0;36mOperatorCompositionFunction.gradient\u001b[0;34m(self, x, out)\u001b[0m\n\u001b[1;32m     78\u001b[0m     \u001b[38;5;28;01mreturn\u001b[39;00m \u001b[38;5;28mself\u001b[39m\u001b[38;5;241m.\u001b[39moperator\u001b[38;5;241m.\u001b[39madjoint(tmp)\n\u001b[1;32m     79\u001b[0m \u001b[38;5;28;01melse\u001b[39;00m: \n\u001b[0;32m---> 80\u001b[0m     \u001b[38;5;28;43mself\u001b[39;49m\u001b[38;5;241;43m.\u001b[39;49m\u001b[43moperator\u001b[49m\u001b[38;5;241;43m.\u001b[39;49m\u001b[43madjoint\u001b[49m\u001b[43m(\u001b[49m\u001b[43mtmp\u001b[49m\u001b[43m,\u001b[49m\u001b[43m \u001b[49m\u001b[43mout\u001b[49m\u001b[38;5;241;43m=\u001b[39;49m\u001b[43mout\u001b[49m\u001b[43m)\u001b[49m\n",
      "File \u001b[0;32m/opt/SIRF-SuperBuild/INSTALL/python/cil/optimisation/operators/BlockOperator.py:248\u001b[0m, in \u001b[0;36mBlockOperator.adjoint\u001b[0;34m(self, x, out)\u001b[0m\n\u001b[1;32m    245\u001b[0m     \u001b[38;5;28;01melse\u001b[39;00m:\n\u001b[1;32m    246\u001b[0m         \u001b[38;5;28;01mif\u001b[39;00m \u001b[38;5;28missubclass\u001b[39m(out\u001b[38;5;241m.\u001b[39m\u001b[38;5;18m__class__\u001b[39m, DataContainer) \u001b[38;5;129;01mor\u001b[39;00m \\\n\u001b[1;32m    247\u001b[0m ( has_sirf \u001b[38;5;129;01mand\u001b[39;00m \u001b[38;5;28missubclass\u001b[39m(out\u001b[38;5;241m.\u001b[39m\u001b[38;5;18m__class__\u001b[39m, SIRFDataContainer) ):\n\u001b[0;32m--> 248\u001b[0m             out \u001b[38;5;241m+\u001b[39m\u001b[38;5;241m=\u001b[39m \u001b[38;5;28mself\u001b[39m\u001b[38;5;241m.\u001b[39mget_item(row,col)\u001b[38;5;241m.\u001b[39madjoint(\n\u001b[1;32m    249\u001b[0m                                         x_b\u001b[38;5;241m.\u001b[39mget_item(row))\n\u001b[1;32m    250\u001b[0m         \u001b[38;5;28;01melse\u001b[39;00m:\n\u001b[1;32m    251\u001b[0m             a \u001b[38;5;241m=\u001b[39m out\u001b[38;5;241m.\u001b[39mget_item(col)\n",
      "File \u001b[0;32m/opt/SIRF-SuperBuild/INSTALL/python/sirf/SIRF.py:522\u001b[0m, in \u001b[0;36mDataContainer.__iadd__\u001b[0;34m(self, other)\u001b[0m\n\u001b[1;32m    520\u001b[0m \u001b[38;5;124;03m'''Not quite in-place add'''\u001b[39;00m\n\u001b[1;32m    521\u001b[0m \u001b[38;5;66;03m#self.fill(self.add(other))\u001b[39;00m\n\u001b[0;32m--> 522\u001b[0m \u001b[38;5;28;43mself\u001b[39;49m\u001b[38;5;241;43m.\u001b[39;49m\u001b[43madd\u001b[49m\u001b[43m(\u001b[49m\u001b[43mother\u001b[49m\u001b[43m,\u001b[49m\u001b[43m \u001b[49m\u001b[43mout\u001b[49m\u001b[38;5;241;43m=\u001b[39;49m\u001b[38;5;28;43mself\u001b[39;49m\u001b[43m)\u001b[49m\n\u001b[1;32m    523\u001b[0m \u001b[38;5;28;01mreturn\u001b[39;00m \u001b[38;5;28mself\u001b[39m\n",
      "File \u001b[0;32m/opt/SIRF-SuperBuild/INSTALL/python/sirf/SIRF.py:221\u001b[0m, in \u001b[0;36mDataContainer.add\u001b[0;34m(self, other, out)\u001b[0m\n\u001b[1;32m    219\u001b[0m     check_status(z\u001b[38;5;241m.\u001b[39mhandle)\n\u001b[1;32m    220\u001b[0m \u001b[38;5;28;01melse\u001b[39;00m:\n\u001b[0;32m--> 221\u001b[0m     \u001b[43massert_validities\u001b[49m\u001b[43m(\u001b[49m\u001b[38;5;28;43mself\u001b[39;49m\u001b[43m,\u001b[49m\u001b[43m \u001b[49m\u001b[43mout\u001b[49m\u001b[43m)\u001b[49m\n\u001b[1;32m    222\u001b[0m     z \u001b[38;5;241m=\u001b[39m out\n\u001b[1;32m    223\u001b[0m     try_calling(pysirf\u001b[38;5;241m.\u001b[39mcSIRF_axpbyAlt \\\n\u001b[1;32m    224\u001b[0m         (one\u001b[38;5;241m.\u001b[39mctypes\u001b[38;5;241m.\u001b[39mdata, \u001b[38;5;28mself\u001b[39m\u001b[38;5;241m.\u001b[39mhandle, one\u001b[38;5;241m.\u001b[39mctypes\u001b[38;5;241m.\u001b[39mdata, other\u001b[38;5;241m.\u001b[39mhandle, z\u001b[38;5;241m.\u001b[39mhandle))\n",
      "File \u001b[0;32m/opt/SIRF-SuperBuild/INSTALL/python/sirf/Utilities.py:464\u001b[0m, in \u001b[0;36massert_validities\u001b[0;34m(x, y)\u001b[0m\n\u001b[1;32m    462\u001b[0m     xdim \u001b[38;5;241m=\u001b[39m \u001b[38;5;28;01mNone\u001b[39;00m\n\u001b[1;32m    463\u001b[0m \u001b[38;5;28;01mif\u001b[39;00m callable(\u001b[38;5;28mgetattr\u001b[39m(y, \u001b[38;5;124m'\u001b[39m\u001b[38;5;124mdimensions\u001b[39m\u001b[38;5;124m'\u001b[39m, \u001b[38;5;28;01mNone\u001b[39;00m)):\n\u001b[0;32m--> 464\u001b[0m     ydim \u001b[38;5;241m=\u001b[39m \u001b[43my\u001b[49m\u001b[38;5;241;43m.\u001b[39;49m\u001b[43mdimensions\u001b[49m\u001b[43m(\u001b[49m\u001b[43m)\u001b[49m\n\u001b[1;32m    465\u001b[0m \u001b[38;5;28;01melse\u001b[39;00m:\n\u001b[1;32m    466\u001b[0m     ydim \u001b[38;5;241m=\u001b[39m \u001b[38;5;28;01mNone\u001b[39;00m\n",
      "File \u001b[0;32m/opt/SIRF-SuperBuild/INSTALL/python/sirf/STIR.py:434\u001b[0m, in \u001b[0;36mImageData.dimensions\u001b[0;34m(self)\u001b[0m\n\u001b[1;32m    432\u001b[0m     \u001b[38;5;28;01mraise\u001b[39;00m \u001b[38;5;167;01mAssertionError\u001b[39;00m()\n\u001b[1;32m    433\u001b[0m dim \u001b[38;5;241m=\u001b[39m numpy\u001b[38;5;241m.\u001b[39mndarray((MAX_IMG_DIMS,), dtype\u001b[38;5;241m=\u001b[39mnumpy\u001b[38;5;241m.\u001b[39mint32)\n\u001b[0;32m--> 434\u001b[0m \u001b[43mtry_calling\u001b[49m\u001b[43m(\u001b[49m\n\u001b[1;32m    435\u001b[0m \u001b[43m    \u001b[49m\u001b[43mpystir\u001b[49m\u001b[38;5;241;43m.\u001b[39;49m\u001b[43mcSTIR_getImageDimensions\u001b[49m\u001b[43m(\u001b[49m\u001b[38;5;28;43mself\u001b[39;49m\u001b[38;5;241;43m.\u001b[39;49m\u001b[43mhandle\u001b[49m\u001b[43m,\u001b[49m\u001b[43m \u001b[49m\u001b[43mdim\u001b[49m\u001b[38;5;241;43m.\u001b[39;49m\u001b[43mctypes\u001b[49m\u001b[38;5;241;43m.\u001b[39;49m\u001b[43mdata\u001b[49m\u001b[43m)\u001b[49m\u001b[43m)\u001b[49m\n\u001b[1;32m    436\u001b[0m \u001b[38;5;28;01mreturn\u001b[39;00m \u001b[38;5;28mtuple\u001b[39m(dim[:\u001b[38;5;241m3\u001b[39m])\n",
      "File \u001b[0;32m/opt/SIRF-SuperBuild/INSTALL/python/sirf/Utilities.py:440\u001b[0m, in \u001b[0;36mtry_calling\u001b[0;34m(returned_handle)\u001b[0m\n\u001b[1;32m    439\u001b[0m \u001b[38;5;28;01mdef\u001b[39;00m \u001b[38;5;21mtry_calling\u001b[39m(returned_handle):\n\u001b[0;32m--> 440\u001b[0m     check_status(returned_handle, \u001b[43minspect\u001b[49m\u001b[38;5;241;43m.\u001b[39;49m\u001b[43mstack\u001b[49m\u001b[43m(\u001b[49m\u001b[43m)\u001b[49m[\u001b[38;5;241m1\u001b[39m])\n\u001b[1;32m    441\u001b[0m     pyiutil\u001b[38;5;241m.\u001b[39mdeleteDataHandle(returned_handle)\n",
      "File \u001b[0;32m/opt/conda/lib/python3.9/inspect.py:1554\u001b[0m, in \u001b[0;36mstack\u001b[0;34m(context)\u001b[0m\n\u001b[1;32m   1552\u001b[0m \u001b[38;5;28;01mdef\u001b[39;00m \u001b[38;5;21mstack\u001b[39m(context\u001b[38;5;241m=\u001b[39m\u001b[38;5;241m1\u001b[39m):\n\u001b[1;32m   1553\u001b[0m     \u001b[38;5;124;03m\"\"\"Return a list of records for the stack above the caller's frame.\"\"\"\u001b[39;00m\n\u001b[0;32m-> 1554\u001b[0m     \u001b[38;5;28;01mreturn\u001b[39;00m \u001b[43mgetouterframes\u001b[49m\u001b[43m(\u001b[49m\u001b[43msys\u001b[49m\u001b[38;5;241;43m.\u001b[39;49m\u001b[43m_getframe\u001b[49m\u001b[43m(\u001b[49m\u001b[38;5;241;43m1\u001b[39;49m\u001b[43m)\u001b[49m\u001b[43m,\u001b[49m\u001b[43m \u001b[49m\u001b[43mcontext\u001b[49m\u001b[43m)\u001b[49m\n",
      "File \u001b[0;32m/opt/conda/lib/python3.9/inspect.py:1531\u001b[0m, in \u001b[0;36mgetouterframes\u001b[0;34m(frame, context)\u001b[0m\n\u001b[1;32m   1529\u001b[0m framelist \u001b[38;5;241m=\u001b[39m []\n\u001b[1;32m   1530\u001b[0m \u001b[38;5;28;01mwhile\u001b[39;00m frame:\n\u001b[0;32m-> 1531\u001b[0m     frameinfo \u001b[38;5;241m=\u001b[39m (frame,) \u001b[38;5;241m+\u001b[39m \u001b[43mgetframeinfo\u001b[49m\u001b[43m(\u001b[49m\u001b[43mframe\u001b[49m\u001b[43m,\u001b[49m\u001b[43m \u001b[49m\u001b[43mcontext\u001b[49m\u001b[43m)\u001b[49m\n\u001b[1;32m   1532\u001b[0m     framelist\u001b[38;5;241m.\u001b[39mappend(FrameInfo(\u001b[38;5;241m*\u001b[39mframeinfo))\n\u001b[1;32m   1533\u001b[0m     frame \u001b[38;5;241m=\u001b[39m frame\u001b[38;5;241m.\u001b[39mf_back\n",
      "File \u001b[0;32m/opt/conda/lib/python3.9/inspect.py:1501\u001b[0m, in \u001b[0;36mgetframeinfo\u001b[0;34m(frame, context)\u001b[0m\n\u001b[1;32m   1498\u001b[0m \u001b[38;5;28;01mif\u001b[39;00m \u001b[38;5;129;01mnot\u001b[39;00m isframe(frame):\n\u001b[1;32m   1499\u001b[0m     \u001b[38;5;28;01mraise\u001b[39;00m \u001b[38;5;167;01mTypeError\u001b[39;00m(\u001b[38;5;124m'\u001b[39m\u001b[38;5;132;01m{!r}\u001b[39;00m\u001b[38;5;124m is not a frame or traceback object\u001b[39m\u001b[38;5;124m'\u001b[39m\u001b[38;5;241m.\u001b[39mformat(frame))\n\u001b[0;32m-> 1501\u001b[0m filename \u001b[38;5;241m=\u001b[39m \u001b[43mgetsourcefile\u001b[49m\u001b[43m(\u001b[49m\u001b[43mframe\u001b[49m\u001b[43m)\u001b[49m \u001b[38;5;129;01mor\u001b[39;00m getfile(frame)\n\u001b[1;32m   1502\u001b[0m \u001b[38;5;28;01mif\u001b[39;00m context \u001b[38;5;241m>\u001b[39m \u001b[38;5;241m0\u001b[39m:\n\u001b[1;32m   1503\u001b[0m     start \u001b[38;5;241m=\u001b[39m lineno \u001b[38;5;241m-\u001b[39m \u001b[38;5;241m1\u001b[39m \u001b[38;5;241m-\u001b[39m context\u001b[38;5;241m/\u001b[39m\u001b[38;5;241m/\u001b[39m\u001b[38;5;241m2\u001b[39m\n",
      "File \u001b[0;32m/opt/conda/lib/python3.9/inspect.py:709\u001b[0m, in \u001b[0;36mgetsourcefile\u001b[0;34m(object)\u001b[0m\n\u001b[1;32m    707\u001b[0m     \u001b[38;5;28;01mreturn\u001b[39;00m filename\n\u001b[1;32m    708\u001b[0m \u001b[38;5;66;03m# only return a non-existent filename if the module has a PEP 302 loader\u001b[39;00m\n\u001b[0;32m--> 709\u001b[0m \u001b[38;5;28;01mif\u001b[39;00m \u001b[38;5;28mgetattr\u001b[39m(\u001b[43mgetmodule\u001b[49m\u001b[43m(\u001b[49m\u001b[38;5;28;43mobject\u001b[39;49m\u001b[43m,\u001b[49m\u001b[43m \u001b[49m\u001b[43mfilename\u001b[49m\u001b[43m)\u001b[49m, \u001b[38;5;124m'\u001b[39m\u001b[38;5;124m__loader__\u001b[39m\u001b[38;5;124m'\u001b[39m, \u001b[38;5;28;01mNone\u001b[39;00m) \u001b[38;5;129;01mis\u001b[39;00m \u001b[38;5;129;01mnot\u001b[39;00m \u001b[38;5;28;01mNone\u001b[39;00m:\n\u001b[1;32m    710\u001b[0m     \u001b[38;5;28;01mreturn\u001b[39;00m filename\n\u001b[1;32m    711\u001b[0m \u001b[38;5;66;03m# or it is in the linecache\u001b[39;00m\n",
      "File \u001b[0;32m/opt/conda/lib/python3.9/inspect.py:747\u001b[0m, in \u001b[0;36mgetmodule\u001b[0;34m(object, _filename)\u001b[0m\n\u001b[1;32m    745\u001b[0m \u001b[38;5;28;01mfor\u001b[39;00m modname, module \u001b[38;5;129;01min\u001b[39;00m sys\u001b[38;5;241m.\u001b[39mmodules\u001b[38;5;241m.\u001b[39mcopy()\u001b[38;5;241m.\u001b[39mitems():\n\u001b[1;32m    746\u001b[0m     \u001b[38;5;28;01mif\u001b[39;00m ismodule(module) \u001b[38;5;129;01mand\u001b[39;00m \u001b[38;5;28mhasattr\u001b[39m(module, \u001b[38;5;124m'\u001b[39m\u001b[38;5;124m__file__\u001b[39m\u001b[38;5;124m'\u001b[39m):\n\u001b[0;32m--> 747\u001b[0m         f \u001b[38;5;241m=\u001b[39m \u001b[43mmodule\u001b[49m\u001b[38;5;241;43m.\u001b[39;49m\u001b[38;5;18;43m__file__\u001b[39;49m\n\u001b[1;32m    748\u001b[0m         \u001b[38;5;28;01mif\u001b[39;00m f \u001b[38;5;241m==\u001b[39m _filesbymodname\u001b[38;5;241m.\u001b[39mget(modname, \u001b[38;5;28;01mNone\u001b[39;00m):\n\u001b[1;32m    749\u001b[0m             \u001b[38;5;66;03m# Have already mapped this module, so skip it\u001b[39;00m\n\u001b[1;32m    750\u001b[0m             \u001b[38;5;28;01mcontinue\u001b[39;00m\n",
      "\u001b[0;31mKeyboardInterrupt\u001b[0m: "
     ]
    }
   ],
   "source": [
    "from cil.optimisation.functions import BlockFunction\n",
    "from cil.optimisation.operators import BlockOperator\n",
    "\n",
    "num_subsets = 10\n",
    "acq_models = [pet.AcquisitionModelUsingRayTracingMatrix() for k in range(num_subsets)]\n",
    "# create masks\n",
    "im_one = image.clone()\n",
    "im_one.fill(1.)\n",
    "masks = []\n",
    "\n",
    "# Loop over physical subsets\n",
    "for k in range(num_subsets):\n",
    "    # Set up\n",
    "    acq_models[k].set_up(acquired_data, image)    \n",
    "    acq_models[k].num_subsets = num_subsets\n",
    "    acq_models[k].subset_num = k \n",
    "\n",
    "    # compute masks \n",
    "    mask = acq_models[k].direct(im_one)\n",
    "    masks.append(mask)\n",
    "    \n",
    "data_fits = [KullbackLeibler(b=acquired_data, eta=background_term, mask=mask.as_array(), use_numba=True) for mask in masks]\n",
    "\n",
    "F = BlockFunction(*data_fits)\n",
    "K = BlockOperator(*acq_models)\n",
    "\n",
    "f_saga = OperatorCompositionFunction(F,K)\n",
    "\n",
    "step_size = 0.1\n",
    "saga = ISTA(initial=initial, f=f_saga, g=IndicatorBox(lower=0),\n",
    "                            step_size=step_size, update_objective_interval=num_subsets,\n",
    "                            max_iteration=1e10, check_convergence_criterion=False)\n",
    "saga.run(100*num_subsets)\n"
   ]
  }
 ],
 "metadata": {
  "kernelspec": {
   "display_name": "Python 3 (ipykernel)",
   "language": "python",
   "name": "python3"
  },
  "language_info": {
   "codemirror_mode": {
    "name": "ipython",
    "version": 3
   },
   "file_extension": ".py",
   "mimetype": "text/x-python",
   "name": "python",
   "nbconvert_exporter": "python",
   "pygments_lexer": "ipython3",
   "version": "3.9.10"
  }
 },
 "nbformat": 4,
 "nbformat_minor": 5
}
