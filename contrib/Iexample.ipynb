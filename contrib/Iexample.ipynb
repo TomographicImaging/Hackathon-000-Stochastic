{
 "cells": [
  {
   "cell_type": "code",
   "execution_count": null,
   "id": "414cc018-0c73-4b92-8b29-7813acc0437e",
   "metadata": {},
   "outputs": [],
   "source": [
    "import sirf.STIR as pet\n",
    "import sirf\n",
    "sirf.STIR.set_verbosity(1)\n",
    "from sirf.Utilities import examples_data_path\n",
    "import os\n",
    "import sys\n",
    "from cil.optimisation.functions import KullbackLeibler, OperatorCompositionFunction, IndicatorBox\n",
    "cil_path = '/home/jovyan/Hackathon-000-Stochastic-Algorithms/cil/'\n",
    "sys.path.append(cil_path)\n",
    "from NewFISTA import ISTA\n",
    "\n",
    "data_path = os.path.join(examples_data_path('PET'), 'thorax_single_slice')\n",
    "\n",
    "image = pet.ImageData(os.path.join(data_path, 'emission.hv'))\n",
    "attn_image = pet.ImageData(os.path.join(data_path, 'attenuation.hv'))\n",
    "\n",
    "\n",
    "acq_model = pet.AcquisitionModelUsingRayTracingMatrix()\n",
    "template = pet.AcquisitionData(os.path.join(data_path, 'template_sinogram.hs'))\n",
    "acq_model.set_up(template, image)\n",
    "acquired_data = acq_model.forward(image)\n",
    "background_term = acquired_data.get_uniform_copy(acquired_data.max()/10)\n",
    "data_fit = KullbackLeibler(b=acquired_data, eta = background_term)\n",
    "initial = image.get_uniform_copy(0)\n",
    "\n",
    "\n",
    "f = OperatorCompositionFunction(data_fit,acq_model)\n",
    "\n",
    "step_size = 0.1\n",
    "ista = ISTA(initial=initial, f=f, g=IndicatorBox(lower=0),\n",
    "                            step_size=step_size, update_objective_interval=1,\n",
    "                            max_iteration=1e10, check_convergence_criterion=False)\n",
    "ista.run(100)"
   ]
  },
  {
   "cell_type": "code",
   "execution_count": null,
   "id": "529eed3a-5584-42dd-94db-efbb9d327d30",
   "metadata": {},
   "outputs": [],
   "source": [
    "from cil.utilities.display import show2D\n",
    "show2D(ista.solution)\n"
   ]
  },
  {
   "cell_type": "code",
   "execution_count": null,
   "id": "5fb7de59-a517-4f00-a117-ddd3e356a172",
   "metadata": {},
   "outputs": [],
   "source": [
    "from cil.optimisation.functions import BlockFunction\n",
    "from cil.optimisation.operators import BlockOperator\n",
    "\n",
    "num_subsets = 10\n",
    "acq_models = [pet.AcquisitionModelUsingRayTracingMatrix() for k in range(num_subsets)]\n",
    "# create masks\n",
    "im_one = image.clone()\n",
    "im_one.fill(1.)\n",
    "masks = []\n",
    "\n",
    "# Loop over physical subsets\n",
    "for k in range(num_subsets):\n",
    "    # Set up\n",
    "    acq_models[k].set_up(acquired_data, image)    \n",
    "    acq_models[k].num_subsets = num_subsets\n",
    "    acq_models[k].subset_num = k \n",
    "\n",
    "    # compute masks \n",
    "    mask = acq_models[k].direct(im_one)\n",
    "    masks.append(mask)\n",
    "    \n",
    "data_fits = [KullbackLeibler(b=acquired_data, eta=background_term, mask=mask.as_array(), use_numba=True) for mask in masks]\n",
    "\n",
    "F = BlockFunction(*data_fits)\n",
    "K = BlockOperator(*acq_models)\n",
    "\n",
    "f_saga = OperatorCompositionFunction(F,K)\n",
    "\n",
    "step_size = 0.1\n",
    "saga = ISTA(initial=initial, f=f_saga, g=IndicatorBox(lower=0),\n",
    "                            step_size=step_size, update_objective_interval=num_subsets,\n",
    "                            max_iteration=1e10, check_convergence_criterion=False)\n",
    "saga.run(100*num_subsets)\n"
   ]
  }
 ],
 "metadata": {
  "kernelspec": {
   "display_name": "Python 3 (ipykernel)",
   "language": "python",
   "name": "python3"
  },
  "language_info": {
   "codemirror_mode": {
    "name": "ipython",
    "version": 3
   },
   "file_extension": ".py",
   "mimetype": "text/x-python",
   "name": "python",
   "nbconvert_exporter": "python",
   "pygments_lexer": "ipython3",
   "version": "3.9.10"
  }
 },
 "nbformat": 4,
 "nbformat_minor": 5
}
